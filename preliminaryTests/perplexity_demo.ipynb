{
 "cells": [
  {
   "cell_type": "code",
   "execution_count": 10,
   "metadata": {},
   "outputs": [],
   "source": [
    "from perplexity import *\n",
    "import torch\n",
    "from torch.nn import Softmax"
   ]
  },
  {
   "cell_type": "code",
   "execution_count": 96,
   "metadata": {},
   "outputs": [],
   "source": [
    "mod, tok = buildModelGPT('gpt2-medium')\n",
    "\n",
    "text = \"My name is John Lenon. I am a singer\"\n"
   ]
  },
  {
   "cell_type": "code",
   "execution_count": 97,
   "metadata": {},
   "outputs": [],
   "source": [
    "import torch.nn as nn\n",
    "import torch\n",
    "import numpy as np\n",
    "\n",
    "def get_perplex_score(cover_text, model, tokenizer, startingSecret=\". \"):\n",
    "    probas = []\n",
    "    token_secret = tokenizer.encode(cover_text)\n",
    "    token_start = tokenizer.encode(startingSecret)\n",
    "    # Convert indexed tokens in a PyTorch tensor\n",
    "    tokens_tensor = torch.tensor([token_start])\n",
    "    m = nn.Softmax(dim=0)\n",
    "  # If you have a GPU, put everything on cuda\n",
    "    tokens_tensor = tokens_tensor.to('cuda')\n",
    "    model.to('cuda')\n",
    "    pred = []\n",
    "    with torch.no_grad():\n",
    "        outputs = model(tokens_tensor)\n",
    "        predictions = outputs[0]\n",
    "        tab = m(predictions[:, -1, :][0])\n",
    "        pred.append(tab[token_secret[0]].item())\n",
    "        for i in range(1, len(token_secret)):\n",
    "            tokens_tensor = torch.cat((tokens_tensor.to('cpu').view(-1), torch.Tensor([token_secret[i]])), dim=-1).view(1, -1)\n",
    "            outputs = model(tokens_tensor.type(torch.long).to(\"cuda\"))\n",
    "            predictions = outputs[0]\n",
    "            tab = m(predictions[:, -1, :][0])\n",
    "            pred.append(tab[token_secret[i]].item())\n",
    "            \n",
    "    s = 0\n",
    "    for p in pred:\n",
    "        s += np.log2(p)\n",
    "    score = 2**((-1/len(pred))*s)\n",
    "    return score\n"
   ]
  },
  {
   "cell_type": "code",
   "execution_count": 100,
   "metadata": {},
   "outputs": [
    {
     "data": {
      "text/plain": [
       "13906.18882150634"
      ]
     },
     "execution_count": 100,
     "metadata": {},
     "output_type": "execute_result"
    }
   ],
   "source": [
    "text = \"Hi I want to order a pizza.\"\n",
    "\n",
    "get_perplex_score(text, mod, tok, startingSecret=\". \")"
   ]
  }
 ],
 "metadata": {
  "kernelspec": {
   "display_name": "stego",
   "language": "python",
   "name": "stego"
  },
  "language_info": {
   "codemirror_mode": {
    "name": "ipython",
    "version": 3
   },
   "file_extension": ".py",
   "mimetype": "text/x-python",
   "name": "python",
   "nbconvert_exporter": "python",
   "pygments_lexer": "ipython3",
   "version": "3.8.5"
  }
 },
 "nbformat": 4,
 "nbformat_minor": 4
}
