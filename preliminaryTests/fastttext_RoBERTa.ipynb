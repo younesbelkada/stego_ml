{
  "nbformat": 4,
  "nbformat_minor": 0,
  "metadata": {
    "colab": {
      "name": "fastttext-RoBERTa.ipynb",
      "provenance": [],
      "collapsed_sections": []
    },
    "kernelspec": {
      "name": "python3",
      "display_name": "Python 3"
    }
  },
  "cells": [
    {
      "cell_type": "code",
      "metadata": {
        "colab": {
          "base_uri": "https://localhost:8080/"
        },
        "id": "Ik4UrqhtEr46",
        "outputId": "52d7eb59-f552-44a8-ad3a-52465ea71709"
      },
      "source": [
        "!pip install transformers --quiet\n",
        "!pip install fasttext --quiet\n",
        "!pip install simpletransformers --quiet"
      ],
      "execution_count": 16,
      "outputs": [
        {
          "output_type": "stream",
          "text": [
            "\u001b[K     |████████████████████████████████| 204kB 5.2MB/s \n",
            "\u001b[K     |████████████████████████████████| 7.4MB 13.5MB/s \n",
            "\u001b[K     |████████████████████████████████| 1.8MB 48.9MB/s \n",
            "\u001b[K     |████████████████████████████████| 51kB 6.9MB/s \n",
            "\u001b[K     |████████████████████████████████| 1.1MB 41.8MB/s \n",
            "\u001b[K     |████████████████████████████████| 71kB 7.6MB/s \n",
            "\u001b[K     |████████████████████████████████| 317kB 55.6MB/s \n",
            "\u001b[K     |████████████████████████████████| 102kB 10.4MB/s \n",
            "\u001b[K     |████████████████████████████████| 112kB 62.8MB/s \n",
            "\u001b[K     |████████████████████████████████| 163kB 52.6MB/s \n",
            "\u001b[K     |████████████████████████████████| 4.5MB 57.2MB/s \n",
            "\u001b[K     |████████████████████████████████| 133kB 58.8MB/s \n",
            "\u001b[K     |████████████████████████████████| 102kB 9.5MB/s \n",
            "\u001b[K     |████████████████████████████████| 71kB 8.4MB/s \n",
            "\u001b[K     |████████████████████████████████| 122kB 52.9MB/s \n",
            "\u001b[?25h  Building wheel for seqeval (setup.py) ... \u001b[?25l\u001b[?25hdone\n",
            "  Building wheel for watchdog (setup.py) ... \u001b[?25l\u001b[?25hdone\n",
            "  Building wheel for blinker (setup.py) ... \u001b[?25l\u001b[?25hdone\n",
            "  Building wheel for subprocess32 (setup.py) ... \u001b[?25l\u001b[?25hdone\n",
            "\u001b[31mERROR: google-colab 1.0.0 has requirement ipykernel~=4.10, but you'll have ipykernel 5.4.2 which is incompatible.\u001b[0m\n"
          ],
          "name": "stdout"
        }
      ]
    },
    {
      "cell_type": "code",
      "metadata": {
        "id": "2EFLGm5lEuA9"
      },
      "source": [
        "from nltk.corpus import brown\n",
        "import nltk\n",
        "\n",
        "import string\n",
        "import os, errno\n",
        "\n",
        "import fasttext\n",
        "import csv\n",
        "\n",
        "import pandas as pd\n",
        "from sklearn.model_selection import train_test_split\n",
        "\n",
        "import matplotlib.pyplot as plt\n",
        "import pandas as pd\n",
        "import torch\n",
        "\n",
        "device = torch.device(\"cuda\" if torch.cuda.is_available() else \"cpu\")\n",
        "from torchtext.data import Field, TabularDataset, BucketIterator\n",
        "import torch.nn as nn\n",
        "from torch.nn.utils.rnn import pack_padded_sequence, pad_packed_sequence\n",
        "import torch.optim as optim\n",
        "\n",
        "from sklearn.metrics import accuracy_score, classification_report, confusion_matrix\n",
        "import seaborn as sns\n",
        "\n",
        "from simpletransformers.classification import ClassificationModel"
      ],
      "execution_count": 17,
      "outputs": []
    },
    {
      "cell_type": "code",
      "metadata": {
        "colab": {
          "base_uri": "https://localhost:8080/"
        },
        "id": "0ewjg1MEFXzw",
        "outputId": "b517dcc2-c186-4c9f-ba3d-c8d6322e71ed"
      },
      "source": [
        "# Download the Brown corpus\n",
        "nltk.download('brown')\n",
        "\n",
        "# Assert that necessary Python files are in current directory\n",
        "assert os.path.exists('./createModel.py')\n",
        "assert os.path.exists('./demoBERT.py')\n",
        "assert os.path.exists('./demoRoBERTa.py')\n",
        "\n",
        "# Create a 'lstm' folder if it doesn't exist\n",
        "try:\n",
        "  os.makedirs('lstm')\n",
        "except OSError as e:\n",
        "  if e.errno != errno.EEXIST:\n",
        "    raise"
      ],
      "execution_count": 3,
      "outputs": [
        {
          "output_type": "stream",
          "text": [
            "[nltk_data] Downloading package brown to /root/nltk_data...\n",
            "[nltk_data]   Package brown is already up-to-date!\n"
          ],
          "name": "stdout"
        }
      ]
    },
    {
      "cell_type": "code",
      "metadata": {
        "colab": {
          "base_uri": "https://localhost:8080/"
        },
        "id": "UavvJMfeGHec",
        "outputId": "1ede9013-3c1c-44d1-8808-16f4dff15834"
      },
      "source": [
        "#from createModel import *\n",
        "#from demoBERT import *\n",
        "from demoRoBERTa import *\n",
        "from classifier_helpers import *"
      ],
      "execution_count": 4,
      "outputs": [
        {
          "output_type": "stream",
          "text": [
            "Some weights of RobertaForCausalLM were not initialized from the model checkpoint at roberta-base and are newly initialized: ['lm_head.decoder.bias']\n",
            "You should probably TRAIN this model on a down-stream task to be able to use it for predictions and inference.\n"
          ],
          "name": "stderr"
        },
        {
          "output_type": "stream",
          "text": [
            "ranks before : [1783, 15334, 1255, 6336, 9214, 10334, 3409, 261, 1622, 52]\n",
            "cover_text:  Hello world, today we are going to present you a tutorial about how to cook a turkey. Please follow this tutorial carefully,  suspKKpe replied threatens shootingnick […] Example and\n",
            "\n",
            "ranks after: [1783, 15334, 1255, 6336, 9214, 10334, 3409, 261, 1622, 52]\n",
            ". this message is super secret please do not share it\n"
          ],
          "name": "stdout"
        }
      ]
    },
    {
      "cell_type": "code",
      "metadata": {
        "colab": {
          "base_uri": "https://localhost:8080/"
        },
        "id": "Rr55Sj_tRK5a",
        "outputId": "47036942-a8da-4c5d-ff66-6c22209db69a"
      },
      "source": [
        "mod, tok = buildModelRoBERTa()"
      ],
      "execution_count": 5,
      "outputs": [
        {
          "output_type": "stream",
          "text": [
            "Some weights of RobertaForCausalLM were not initialized from the model checkpoint at roberta-base and are newly initialized: ['lm_head.decoder.bias']\n",
            "You should probably TRAIN this model on a down-stream task to be able to use it for predictions and inference.\n"
          ],
          "name": "stderr"
        }
      ]
    },
    {
      "cell_type": "code",
      "metadata": {
        "id": "XnNy5QDdRNv0"
      },
      "source": [
        "start_text = \"\"\"\n",
        "Welcome to the Shakespeare festival in London, UK. Today\n",
        "\"\"\"\n",
        "\n",
        "start_secret = \"Secret\"\n",
        "secret_text = \"A secret message for Joe\""
      ],
      "execution_count": 6,
      "outputs": []
    },
    {
      "cell_type": "code",
      "metadata": {
        "colab": {
          "base_uri": "https://localhost:8080/"
        },
        "id": "V1feBKPJRPZK",
        "outputId": "bb83b4dd-7ee3-4509-e739-6a351445bbe6"
      },
      "source": [
        "print(gen_fake_text(mod, tok, start_text, start_secret, secret_text))"
      ],
      "execution_count": 7,
      "outputs": [
        {
          "output_type": "stream",
          "text": [
            "\n",
            "Welcome to the Shakespeare festival in London, UK. Today\n",
            "Youadj Securities Predictrael\n"
          ],
          "name": "stdout"
        }
      ]
    },
    {
      "cell_type": "code",
      "metadata": {
        "id": "2mugkp4gRRLH",
        "colab": {
          "base_uri": "https://localhost:8080/"
        },
        "outputId": "19b69901-3cc1-4528-cf73-18e5b08f3045"
      },
      "source": [
        "NUM_OF_ARTICLES = 100\n",
        "true_news, fake_news = get_news(mod, tok, \n",
        "                                start_secret, \n",
        "                                secret_text, \n",
        "                                corpus_size=NUM_OF_ARTICLES, \n",
        "                                secret_text_length=5)"
      ],
      "execution_count": 8,
      "outputs": [
        {
          "output_type": "stream",
          "text": [
            "1 / 100\n",
            "2 / 100\n",
            "3 / 100\n",
            "4 / 100\n",
            "5 / 100\n",
            "6 / 100\n",
            "7 / 100\n",
            "8 / 100\n",
            "9 / 100\n",
            "10 / 100\n",
            "11 / 100\n",
            "12 / 100\n",
            "13 / 100\n",
            "14 / 100\n",
            "15 / 100\n",
            "16 / 100\n",
            "17 / 100\n",
            "18 / 100\n",
            "19 / 100\n",
            "20 / 100\n",
            "21 / 100\n",
            "22 / 100\n",
            "23 / 100\n",
            "24 / 100\n",
            "25 / 100\n",
            "26 / 100\n",
            "27 / 100\n",
            "28 / 100\n",
            "29 / 100\n",
            "30 / 100\n",
            "31 / 100\n",
            "32 / 100\n",
            "33 / 100\n",
            "34 / 100\n",
            "35 / 100\n",
            "36 / 100\n",
            "37 / 100\n",
            "38 / 100\n",
            "39 / 100\n",
            "40 / 100\n",
            "41 / 100\n",
            "42 / 100\n",
            "43 / 100\n",
            "44 / 100\n",
            "45 / 100\n",
            "46 / 100\n",
            "47 / 100\n",
            "48 / 100\n",
            "49 / 100\n",
            "50 / 100\n",
            "51 / 100\n",
            "52 / 100\n",
            "53 / 100\n",
            "54 / 100\n",
            "55 / 100\n",
            "56 / 100\n",
            "57 / 100\n",
            "58 / 100\n",
            "59 / 100\n",
            "60 / 100\n",
            "61 / 100\n",
            "62 / 100\n",
            "63 / 100\n",
            "64 / 100\n",
            "65 / 100\n",
            "66 / 100\n",
            "67 / 100\n",
            "68 / 100\n",
            "69 / 100\n",
            "70 / 100\n",
            "71 / 100\n",
            "72 / 100\n",
            "73 / 100\n",
            "74 / 100\n",
            "75 / 100\n",
            "76 / 100\n",
            "77 / 100\n",
            "78 / 100\n",
            "79 / 100\n",
            "80 / 100\n",
            "81 / 100\n",
            "82 / 100\n",
            "83 / 100\n",
            "84 / 100\n",
            "85 / 100\n",
            "86 / 100\n",
            "87 / 100\n",
            "88 / 100\n",
            "89 / 100\n",
            "90 / 100\n",
            "91 / 100\n",
            "92 / 100\n"
          ],
          "name": "stdout"
        }
      ]
    },
    {
      "cell_type": "code",
      "metadata": {
        "colab": {
          "base_uri": "https://localhost:8080/"
        },
        "id": "rBHuKe5ic9UO",
        "outputId": "66612008-aed6-400c-f3a4-8fcf0131dca6"
      },
      "source": [
        "true_news, fake_news = prepare_news(true_news, fake_news)"
      ],
      "execution_count": 9,
      "outputs": [
        {
          "output_type": "stream",
          "text": [
            "the jury further said in termend presentments that the city executive committee  which had overall charge of the election   deserves the praise and thanks of the city of atlanta  for the manner in which the election was conducted \n"
          ],
          "name": "stdout"
        }
      ]
    },
    {
      "cell_type": "code",
      "metadata": {
        "colab": {
          "base_uri": "https://localhost:8080/"
        },
        "id": "dnkYTEZfgQMo",
        "outputId": "5f23aac1-2d67-47ab-f441-b0c2cf734387"
      },
      "source": [
        "true_news"
      ],
      "execution_count": 10,
      "outputs": [
        {
          "output_type": "execute_result",
          "data": {
            "text/plain": [
              "['the fulton county grand jury said friday an investigation of atlantas recent primary election produced  no evidence  that any irregularities took place',\n",
              " 'the jury further said in termend presentments that the city executive committee  which had overall charge of the election   deserves the praise and thanks of the city of atlanta  for the manner in which the election was conducted',\n",
              " 'the septemberoctober term jury had been charged by fulton superior court judge durwood pye to investigate reports of possible  irregularities  in the hardfought primary which was won by mayornominate ivan allen jr',\n",
              " 'only a relative handful of such reports was received   the jury said   considering the widespread interest in the election  the number of voters and the size of this city',\n",
              " 'the jury said it did find that many of georgias registration and election laws  are outmoded or inadequate and often ambiguous',\n",
              " 'it recommended that fulton legislators act  to have these laws studied and revised to the end of modernizing and improving them',\n",
              " 'the grand jury commented on a number of other topics  among them the atlanta and fulton county purchasing departments which it said  are well operated and follow generally accepted practices which inure to the best interest of both governments',\n",
              " 'however  the jury said it believes  these two offices should be combined to achieve greater efficiency and reduce the cost of administration',\n",
              " 'the city purchasing department  the jury said   is lacking in experienced clerical personnel as a result of city personnel policies',\n",
              " 'it urged that the city  take steps to remedy  this problem',\n",
              " 'implementation of georgias automobile title law was also recommended by the outgoing jury',\n",
              " 'it urged that the next legislature  provide enabling funds and reset the effective date so that an orderly implementation of the law may be effected',\n",
              " 'the grand jury took a swipe at the state welfare departments handling of federal funds granted for child welfare services in foster homes',\n",
              " 'this is one of the major items in the fulton county general assistance program   the jury said  but the state welfare department  has seen fit to distribute these funds through the welfare departments of all the counties in the state with the exception of fulton county  which receives none of this money',\n",
              " 'the jurors said they realize  a proportionate distribution of these funds might disable this program in our less populous counties',\n",
              " 'nevertheless   we feel that in the future fulton county should receive some portion of these available funds   the jurors said',\n",
              " 'failure to do this will continue to place a disproportionate burden  on fulton taxpayers',\n",
              " 'the jury also commented on the fulton ordinarys court which has been under fire for its practices in the appointment of appraisers  guardians and administrators and the awarding of fees and compensation',\n",
              " 'the jury said it found the court  has incorporated into its operating procedures the recommendations  of two previous grand juries  the atlanta bar association and an interim citizens committee',\n",
              " 'these actions should serve to protect in fact and in effect the courts wards from undue costs and its appointed and elected servants from unmeritorious criticisms   the jury said',\n",
              " 'regarding atlantas new multimilliondollar airport  the jury recommended  that when the new management takes charge jan 1 the airport be operated in a manner that will eliminate political influences',\n",
              " 'the jury did not elaborate  but it added that  there should be periodic surveillance of the pricing practices of the concessionaires for the purpose of keeping the prices reasonable',\n",
              " 'on other matters  the jury recommended that   1',\n",
              " 'four additional deputies be employed at the fulton county jail and  a doctor  medical intern or extern be employed for night and weekend duty at the jail',\n",
              " 'fulton legislators  work with city officials to pass enabling legislation that will permit the establishment of a fair and equitable  pension plan for city employes',\n",
              " 'the jury praised the administration and operation of the atlanta police department  the fulton tax commissioners office  the bellwood and alpharetta prison farms  grady hospital and the fulton health department',\n",
              " 'mayor william b hartsfield filed suit for divorce from his wife  pearl williams hartsfield  in fulton superior court friday',\n",
              " 'his petition charged mental cruelty',\n",
              " 'the couple was married aug 2  1913',\n",
              " 'they have a son  william berry jr  and a daughter  mrs j m cheshire of griffin',\n",
              " 'attorneys for the mayor said that an amicable property settlement has been agreed upon',\n",
              " 'the petition listed the mayors occupation as  attorney  and his age as 71',\n",
              " 'it listed his wifes age as 74 and place of birth as opelika  ala',\n",
              " 'the petition said that the couple has not lived together as man and wife for more than a year',\n",
              " 'the hartsfield home is at 637 e pelham rd aj',\n",
              " 'henry l bowden was listed on the petition as the mayors attorney',\n",
              " 'hartsfield has been mayor of atlanta  with exception of one brief interlude  since 1937',\n",
              " 'his political career goes back to his election to city council in 1923',\n",
              " 'the mayors present term of office expires jan 1',\n",
              " 'he will be succeeded by ivan allen jr  who became a candidate in the sept 13 primary after mayor hartsfield announced that he would not run for reelection',\n",
              " 'georgia republicans are getting strong encouragement to enter a candidate in the 1962 governors race  a top official said wednesday',\n",
              " 'robert snodgrass  state gop chairman  said a meeting held tuesday night in blue ridge brought enthusiastic responses from the audience',\n",
              " 'state party chairman james w dorsey added that enthusiasm was picking up for a state rally to be held sept 8 in savannah at which newly elected texas sen john tower will be the featured speaker',\n",
              " 'in the blue ridge meeting  the audience was warned that entering a candidate for governor would force it to take petitions out into voting precincts to obtain the signatures of registered voters',\n",
              " 'despite the warning  there was a unanimous vote to enter a candidate  according to republicans who attended',\n",
              " 'when the crowd was asked whether it wanted to wait one more term to make the race  it voted no  and there were no dissents',\n",
              " 'the largest hurdle the republicans would have to face is a state law which says that before making a first race  one of two alternative courses must be taken  1',\n",
              " 'five per cent of the voters in each county must sign petitions requesting that the republicans be allowed to place names of candidates on the general election ballot  or 2',\n",
              " 'the republicans must hold a primary under the county unit system  a system which the party opposes in its platform',\n",
              " 'sam caldwell  state highway department public relations director  resigned tuesday to work for lt gov garland byrds campaign',\n",
              " 'caldwells resignation had been expected for some time',\n",
              " 'he will be succeeded by rob ledford of gainesville  who has been an assistant more than three years',\n",
              " 'when the gubernatorial campaign starts  caldwell is expected to become a campaign coordinator for byrd',\n",
              " 'the georgia legislature will wind up its 1961 session monday and head for home  where some of the highway bond money it approved will follow shortly',\n",
              " 'before adjournment monday afternoon  the senate is expected to approve a study of the number of legislators allotted to rural and urban areas to determine what adjustments should be made',\n",
              " 'gov vandiver is expected to make the traditional visit to both chambers as they work toward adjournment',\n",
              " 'vandiver likely will mention the 100 million highway bond issue approved earlier in the session as his first priority item',\n",
              " 'meanwhile  it was learned the state highway department is very near being ready to issue the first 30 million worth of highway reconstruction bonds',\n",
              " 'the bond issue will go to the state courts for a friendly test suit to test the validity of the act  and then the sales will begin and contracts let for repair work on some of georgias most heavily traveled highways',\n",
              " 'a highway department source said there also is a plan there to issue some 3 million to 4 million worth of rural roads authority bonds for rural road construction work',\n",
              " 'the department apparently intends to make the rural roads authority a revolving fund under which new bonds would be issued every time a portion of the old ones are paid off by tax authorities',\n",
              " 'vandiver opened his race for governor in 1958 with a battle in the legislature against the issuance of 50 million worth of additional rural roads bonds proposed by then gov marvin griffin',\n",
              " 'the highway department source told the constitution  however  that vandiver has not been consulted yet about the plans to issue the new rural roads bonds',\n",
              " 'schley county rep b d pelham will offer a resolution monday in the house to rescind the bodys action of friday in voting itself a 10 per day increase in expense allowances',\n",
              " 'pelham said sunday night there was research being done on whether the  quickie  vote on the increase can be repealed outright or whether notice would have to first be given that reconsideration of the action would be sought',\n",
              " 'while emphasizing that technical details were not fully worked out  pelham said his resolution would seek to set aside the privilege resolution which the house voted through 8731',\n",
              " 'a similar resolution passed in the senate by a vote of 295',\n",
              " 'as of sunday night  there was no word of a resolution being offered there to rescind the action',\n",
              " 'pelham pointed out that georgia voters last november rejected a constitutional amendment to allow legislators to vote on pay raises for future legislature sessions',\n",
              " 'a veteran jackson county legislator will ask the georgia house monday to back federal aid to education  something it has consistently opposed in the past',\n",
              " 'rep mac barber of commerce is asking the house in a privilege resolution to  endorse increased federal support for public education  provided that such funds be received and expended  as state funds',\n",
              " 'barber  who is in his 13th year as a legislator  said there  are some members of our congressional delegation in washington who would like to see it  the resolution  passed',\n",
              " 'but he added that none of georgias congressmen specifically asked him to offer the resolution',\n",
              " 'the resolution  which barber tossed into the house hopper friday  will be formally read monday',\n",
              " 'it says that  in the event congress does provide this increase in federal funds   the state board of education should be directed to  give priority  to teacher pay raises',\n",
              " 'after a long  hot controversy  miller county has a new school superintendent  elected  as a policeman put it  in the  coolest election i ever saw in this county',\n",
              " 'the new school superintendent is harry davis  a veteran agriculture teacher  who defeated felix bush  a school principal and chairman of the miller county democratic executive committee',\n",
              " 'davis received 1119 votes in saturdays election  and bush got 402',\n",
              " 'ordinary carey williams  armed with a pistol  stood by at the polls to insure order',\n",
              " 'this was the coolest  calmest election i ever saw   colquitt policeman tom williams said',\n",
              " 'being at the polls was just like being at church',\n",
              " 'i didnt smell a drop of liquor  and we didnt have a bit of trouble',\n",
              " 'the campaign leading to the election was not so quiet  however',\n",
              " 'it was marked by controversy  anonymous midnight phone calls and veiled threats of violence',\n",
              " 'the former county school superintendent  george p callan  shot himself to death march 18  four days after he resigned his post in a dispute with the county school board',\n",
              " 'during the election campaign  both candidates  davis and bush  reportedly received anonymous telephone calls',\n",
              " 'ordinary williams said he  too  was subjected to anonymous calls soon after he scheduled the election',\n",
              " 'many local citizens feared that there would be irregularities at the polls  and williams got himself a permit to carry a gun and promised an orderly election',\n",
              " 'sheriff felix tabb said the ordinary apparently made good his promise',\n",
              " 'everything went real smooth   the sheriff said',\n",
              " 'there wasnt a bit of trouble',\n",
              " 'committee approval of gov price daniels  abandoned property  act seemed certain thursday despite the adamant protests of texas bankers']"
            ]
          },
          "metadata": {
            "tags": []
          },
          "execution_count": 10
        }
      ]
    },
    {
      "cell_type": "code",
      "metadata": {
        "id": "lyJldCqlWQJU"
      },
      "source": [
        "destination_folder = './lstm/'\n",
        "\n",
        "train_test_ratio = 0.90\n",
        "train_valid_ratio = 0.80\n",
        "\n",
        "first_n_words = 200\n",
        "\n",
        "def trim_string(x):\n",
        "    x = x.split(maxsplit=first_n_words)\n",
        "    x = ' '.join(x[:first_n_words])\n",
        "    return x"
      ],
      "execution_count": 11,
      "outputs": []
    },
    {
      "cell_type": "code",
      "metadata": {
        "colab": {
          "base_uri": "https://localhost:8080/",
          "height": 419
        },
        "id": "CiYmgnt1WTtA",
        "outputId": "9188afa9-15ec-4c6c-a40d-5125473eb5f8"
      },
      "source": [
        "df = prepare_df(true_news, fake_news)\n",
        "df"
      ],
      "execution_count": 12,
      "outputs": [
        {
          "output_type": "execute_result",
          "data": {
            "text/html": [
              "<div>\n",
              "<style scoped>\n",
              "    .dataframe tbody tr th:only-of-type {\n",
              "        vertical-align: middle;\n",
              "    }\n",
              "\n",
              "    .dataframe tbody tr th {\n",
              "        vertical-align: top;\n",
              "    }\n",
              "\n",
              "    .dataframe thead th {\n",
              "        text-align: right;\n",
              "    }\n",
              "</style>\n",
              "<table border=\"1\" class=\"dataframe\">\n",
              "  <thead>\n",
              "    <tr style=\"text-align: right;\">\n",
              "      <th></th>\n",
              "      <th>label</th>\n",
              "      <th>text</th>\n",
              "    </tr>\n",
              "  </thead>\n",
              "  <tbody>\n",
              "    <tr>\n",
              "      <th>0</th>\n",
              "      <td>0</td>\n",
              "      <td>the fulton county grand jury said friday an in...</td>\n",
              "    </tr>\n",
              "    <tr>\n",
              "      <th>1</th>\n",
              "      <td>0</td>\n",
              "      <td>the jury further said in termend presentments ...</td>\n",
              "    </tr>\n",
              "    <tr>\n",
              "      <th>2</th>\n",
              "      <td>0</td>\n",
              "      <td>the septemberoctober term jury had been charge...</td>\n",
              "    </tr>\n",
              "    <tr>\n",
              "      <th>3</th>\n",
              "      <td>0</td>\n",
              "      <td>only a relative handful of such reports was re...</td>\n",
              "    </tr>\n",
              "    <tr>\n",
              "      <th>4</th>\n",
              "      <td>0</td>\n",
              "      <td>the jury said it did find that many of georgia...</td>\n",
              "    </tr>\n",
              "    <tr>\n",
              "      <th>...</th>\n",
              "      <td>...</td>\n",
              "      <td>...</td>\n",
              "    </tr>\n",
              "    <tr>\n",
              "      <th>179</th>\n",
              "      <td>1</td>\n",
              "      <td>many local citizens feared that there would be...</td>\n",
              "    </tr>\n",
              "    <tr>\n",
              "      <th>180</th>\n",
              "      <td>1</td>\n",
              "      <td>sheriff felix tabb said the ordinary apparentl...</td>\n",
              "    </tr>\n",
              "    <tr>\n",
              "      <th>181</th>\n",
              "      <td>1</td>\n",
              "      <td>everything went real smooth security banner li...</td>\n",
              "    </tr>\n",
              "    <tr>\n",
              "      <th>182</th>\n",
              "      <td>1</td>\n",
              "      <td>there wasnt a signing bustling bast winterpatrick</td>\n",
              "    </tr>\n",
              "    <tr>\n",
              "      <th>183</th>\n",
              "      <td>1</td>\n",
              "      <td>committee approval of gov price daniels  aband...</td>\n",
              "    </tr>\n",
              "  </tbody>\n",
              "</table>\n",
              "<p>184 rows × 2 columns</p>\n",
              "</div>"
            ],
            "text/plain": [
              "     label                                               text\n",
              "0        0  the fulton county grand jury said friday an in...\n",
              "1        0  the jury further said in termend presentments ...\n",
              "2        0  the septemberoctober term jury had been charge...\n",
              "3        0  only a relative handful of such reports was re...\n",
              "4        0  the jury said it did find that many of georgia...\n",
              "..     ...                                                ...\n",
              "179      1  many local citizens feared that there would be...\n",
              "180      1  sheriff felix tabb said the ordinary apparentl...\n",
              "181      1  everything went real smooth security banner li...\n",
              "182      1  there wasnt a signing bustling bast winterpatrick\n",
              "183      1  committee approval of gov price daniels  aband...\n",
              "\n",
              "[184 rows x 2 columns]"
            ]
          },
          "metadata": {
            "tags": []
          },
          "execution_count": 12
        }
      ]
    },
    {
      "cell_type": "markdown",
      "metadata": {
        "id": "QsvMNbm8hEcL"
      },
      "source": [
        "# fasttext"
      ]
    },
    {
      "cell_type": "code",
      "metadata": {
        "id": "fQMP5P_xeC5d"
      },
      "source": [
        "prepare_df_for_fasttext(df, train_test_ratio)"
      ],
      "execution_count": 13,
      "outputs": []
    },
    {
      "cell_type": "code",
      "metadata": {
        "id": "NczTKoxQWmO6"
      },
      "source": [
        "model = fasttext.train_supervised('train.txt', wordNgrams = 200)"
      ],
      "execution_count": 14,
      "outputs": []
    },
    {
      "cell_type": "code",
      "metadata": {
        "colab": {
          "base_uri": "https://localhost:8080/"
        },
        "id": "Up5W1KwwWoPt",
        "outputId": "c2fd3cf8-af2f-4f28-94b3-6cbca4eed5c3"
      },
      "source": [
        "model.test('test.txt')"
      ],
      "execution_count": 15,
      "outputs": [
        {
          "output_type": "execute_result",
          "data": {
            "text/plain": [
              "(19, 0.42105263157894735, 0.42105263157894735)"
            ]
          },
          "metadata": {
            "tags": []
          },
          "execution_count": 15
        }
      ]
    },
    {
      "cell_type": "code",
      "metadata": {
        "id": "BlCru6Y-c72j"
      },
      "source": [
        ""
      ],
      "execution_count": 15,
      "outputs": []
    },
    {
      "cell_type": "markdown",
      "metadata": {
        "id": "RWfUQUfthI4J"
      },
      "source": [
        "# Transformer Classifier"
      ]
    },
    {
      "cell_type": "code",
      "metadata": {
        "colab": {
          "base_uri": "https://localhost:8080/"
        },
        "id": "LjYtTi7ChhCj",
        "outputId": "9fed48f1-cb16-49ab-f5ae-5a460cd34df3"
      },
      "source": [
        ""
      ],
      "execution_count": 25,
      "outputs": [
        {
          "output_type": "execute_result",
          "data": {
            "text/plain": [
              "pandas.core.series.Series"
            ]
          },
          "metadata": {
            "tags": []
          },
          "execution_count": 25
        }
      ]
    }
  ]
}