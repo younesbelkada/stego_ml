{
  "nbformat": 4,
  "nbformat_minor": 0,
  "metadata": {
    "colab": {
      "name": "fastttext-RoBERTa.ipynb",
      "provenance": [],
      "collapsed_sections": []
    },
    "kernelspec": {
      "name": "python3",
      "display_name": "Python 3"
    },
    "widgets": {
      "application/vnd.jupyter.widget-state+json": {
        "6ae18791006a46899845766f9ad185d1": {
          "model_module": "@jupyter-widgets/controls",
          "model_name": "HBoxModel",
          "state": {
            "_view_name": "HBoxView",
            "_dom_classes": [],
            "_model_name": "HBoxModel",
            "_view_module": "@jupyter-widgets/controls",
            "_model_module_version": "1.5.0",
            "_view_count": null,
            "_view_module_version": "1.5.0",
            "box_style": "",
            "layout": "IPY_MODEL_cdfa5a92a5604c2a9eb38baf61236562",
            "_model_module": "@jupyter-widgets/controls",
            "children": [
              "IPY_MODEL_6a676432453a44d8bf3505d7ef548b3a",
              "IPY_MODEL_2da807edbe654bd8a387f0db25f2388a"
            ]
          }
        },
        "cdfa5a92a5604c2a9eb38baf61236562": {
          "model_module": "@jupyter-widgets/base",
          "model_name": "LayoutModel",
          "state": {
            "_view_name": "LayoutView",
            "grid_template_rows": null,
            "right": null,
            "justify_content": null,
            "_view_module": "@jupyter-widgets/base",
            "overflow": null,
            "_model_module_version": "1.2.0",
            "_view_count": null,
            "flex_flow": null,
            "width": null,
            "min_width": null,
            "border": null,
            "align_items": null,
            "bottom": null,
            "_model_module": "@jupyter-widgets/base",
            "top": null,
            "grid_column": null,
            "overflow_y": null,
            "overflow_x": null,
            "grid_auto_flow": null,
            "grid_area": null,
            "grid_template_columns": null,
            "flex": null,
            "_model_name": "LayoutModel",
            "justify_items": null,
            "grid_row": null,
            "max_height": null,
            "align_content": null,
            "visibility": null,
            "align_self": null,
            "height": null,
            "min_height": null,
            "padding": null,
            "grid_auto_rows": null,
            "grid_gap": null,
            "max_width": null,
            "order": null,
            "_view_module_version": "1.2.0",
            "grid_template_areas": null,
            "object_position": null,
            "object_fit": null,
            "grid_auto_columns": null,
            "margin": null,
            "display": null,
            "left": null
          }
        },
        "6a676432453a44d8bf3505d7ef548b3a": {
          "model_module": "@jupyter-widgets/controls",
          "model_name": "FloatProgressModel",
          "state": {
            "_view_name": "ProgressView",
            "style": "IPY_MODEL_5bf013328a78428eac25a6c22908279e",
            "_dom_classes": [],
            "description": "Downloading: 100%",
            "_model_name": "FloatProgressModel",
            "bar_style": "success",
            "max": 898823,
            "_view_module": "@jupyter-widgets/controls",
            "_model_module_version": "1.5.0",
            "value": 898823,
            "_view_count": null,
            "_view_module_version": "1.5.0",
            "orientation": "horizontal",
            "min": 0,
            "description_tooltip": null,
            "_model_module": "@jupyter-widgets/controls",
            "layout": "IPY_MODEL_7305a4d5d0d840f186871e3c9edb4a92"
          }
        },
        "2da807edbe654bd8a387f0db25f2388a": {
          "model_module": "@jupyter-widgets/controls",
          "model_name": "HTMLModel",
          "state": {
            "_view_name": "HTMLView",
            "style": "IPY_MODEL_3c42f0a31ef948a7859bc25b2c82e299",
            "_dom_classes": [],
            "description": "",
            "_model_name": "HTMLModel",
            "placeholder": "​",
            "_view_module": "@jupyter-widgets/controls",
            "_model_module_version": "1.5.0",
            "value": " 899k/899k [00:01&lt;00:00, 589kB/s]",
            "_view_count": null,
            "_view_module_version": "1.5.0",
            "description_tooltip": null,
            "_model_module": "@jupyter-widgets/controls",
            "layout": "IPY_MODEL_e69b3e5744364a4a964e5bb64a611c0c"
          }
        },
        "5bf013328a78428eac25a6c22908279e": {
          "model_module": "@jupyter-widgets/controls",
          "model_name": "ProgressStyleModel",
          "state": {
            "_view_name": "StyleView",
            "_model_name": "ProgressStyleModel",
            "description_width": "initial",
            "_view_module": "@jupyter-widgets/base",
            "_model_module_version": "1.5.0",
            "_view_count": null,
            "_view_module_version": "1.2.0",
            "bar_color": null,
            "_model_module": "@jupyter-widgets/controls"
          }
        },
        "7305a4d5d0d840f186871e3c9edb4a92": {
          "model_module": "@jupyter-widgets/base",
          "model_name": "LayoutModel",
          "state": {
            "_view_name": "LayoutView",
            "grid_template_rows": null,
            "right": null,
            "justify_content": null,
            "_view_module": "@jupyter-widgets/base",
            "overflow": null,
            "_model_module_version": "1.2.0",
            "_view_count": null,
            "flex_flow": null,
            "width": null,
            "min_width": null,
            "border": null,
            "align_items": null,
            "bottom": null,
            "_model_module": "@jupyter-widgets/base",
            "top": null,
            "grid_column": null,
            "overflow_y": null,
            "overflow_x": null,
            "grid_auto_flow": null,
            "grid_area": null,
            "grid_template_columns": null,
            "flex": null,
            "_model_name": "LayoutModel",
            "justify_items": null,
            "grid_row": null,
            "max_height": null,
            "align_content": null,
            "visibility": null,
            "align_self": null,
            "height": null,
            "min_height": null,
            "padding": null,
            "grid_auto_rows": null,
            "grid_gap": null,
            "max_width": null,
            "order": null,
            "_view_module_version": "1.2.0",
            "grid_template_areas": null,
            "object_position": null,
            "object_fit": null,
            "grid_auto_columns": null,
            "margin": null,
            "display": null,
            "left": null
          }
        },
        "3c42f0a31ef948a7859bc25b2c82e299": {
          "model_module": "@jupyter-widgets/controls",
          "model_name": "DescriptionStyleModel",
          "state": {
            "_view_name": "StyleView",
            "_model_name": "DescriptionStyleModel",
            "description_width": "",
            "_view_module": "@jupyter-widgets/base",
            "_model_module_version": "1.5.0",
            "_view_count": null,
            "_view_module_version": "1.2.0",
            "_model_module": "@jupyter-widgets/controls"
          }
        },
        "e69b3e5744364a4a964e5bb64a611c0c": {
          "model_module": "@jupyter-widgets/base",
          "model_name": "LayoutModel",
          "state": {
            "_view_name": "LayoutView",
            "grid_template_rows": null,
            "right": null,
            "justify_content": null,
            "_view_module": "@jupyter-widgets/base",
            "overflow": null,
            "_model_module_version": "1.2.0",
            "_view_count": null,
            "flex_flow": null,
            "width": null,
            "min_width": null,
            "border": null,
            "align_items": null,
            "bottom": null,
            "_model_module": "@jupyter-widgets/base",
            "top": null,
            "grid_column": null,
            "overflow_y": null,
            "overflow_x": null,
            "grid_auto_flow": null,
            "grid_area": null,
            "grid_template_columns": null,
            "flex": null,
            "_model_name": "LayoutModel",
            "justify_items": null,
            "grid_row": null,
            "max_height": null,
            "align_content": null,
            "visibility": null,
            "align_self": null,
            "height": null,
            "min_height": null,
            "padding": null,
            "grid_auto_rows": null,
            "grid_gap": null,
            "max_width": null,
            "order": null,
            "_view_module_version": "1.2.0",
            "grid_template_areas": null,
            "object_position": null,
            "object_fit": null,
            "grid_auto_columns": null,
            "margin": null,
            "display": null,
            "left": null
          }
        },
        "f868e99b590d4b779b29636f03dd4683": {
          "model_module": "@jupyter-widgets/controls",
          "model_name": "HBoxModel",
          "state": {
            "_view_name": "HBoxView",
            "_dom_classes": [],
            "_model_name": "HBoxModel",
            "_view_module": "@jupyter-widgets/controls",
            "_model_module_version": "1.5.0",
            "_view_count": null,
            "_view_module_version": "1.5.0",
            "box_style": "",
            "layout": "IPY_MODEL_39233830a8404fa1be46ecfc0e64d89b",
            "_model_module": "@jupyter-widgets/controls",
            "children": [
              "IPY_MODEL_0bd0941556254676a00858aa548b2b73",
              "IPY_MODEL_74058b4bc72446dfb7b3f35e259e18c8"
            ]
          }
        },
        "39233830a8404fa1be46ecfc0e64d89b": {
          "model_module": "@jupyter-widgets/base",
          "model_name": "LayoutModel",
          "state": {
            "_view_name": "LayoutView",
            "grid_template_rows": null,
            "right": null,
            "justify_content": null,
            "_view_module": "@jupyter-widgets/base",
            "overflow": null,
            "_model_module_version": "1.2.0",
            "_view_count": null,
            "flex_flow": null,
            "width": null,
            "min_width": null,
            "border": null,
            "align_items": null,
            "bottom": null,
            "_model_module": "@jupyter-widgets/base",
            "top": null,
            "grid_column": null,
            "overflow_y": null,
            "overflow_x": null,
            "grid_auto_flow": null,
            "grid_area": null,
            "grid_template_columns": null,
            "flex": null,
            "_model_name": "LayoutModel",
            "justify_items": null,
            "grid_row": null,
            "max_height": null,
            "align_content": null,
            "visibility": null,
            "align_self": null,
            "height": null,
            "min_height": null,
            "padding": null,
            "grid_auto_rows": null,
            "grid_gap": null,
            "max_width": null,
            "order": null,
            "_view_module_version": "1.2.0",
            "grid_template_areas": null,
            "object_position": null,
            "object_fit": null,
            "grid_auto_columns": null,
            "margin": null,
            "display": null,
            "left": null
          }
        },
        "0bd0941556254676a00858aa548b2b73": {
          "model_module": "@jupyter-widgets/controls",
          "model_name": "FloatProgressModel",
          "state": {
            "_view_name": "ProgressView",
            "style": "IPY_MODEL_becf645376004667b8481f05747cecef",
            "_dom_classes": [],
            "description": "Downloading: 100%",
            "_model_name": "FloatProgressModel",
            "bar_style": "success",
            "max": 456318,
            "_view_module": "@jupyter-widgets/controls",
            "_model_module_version": "1.5.0",
            "value": 456318,
            "_view_count": null,
            "_view_module_version": "1.5.0",
            "orientation": "horizontal",
            "min": 0,
            "description_tooltip": null,
            "_model_module": "@jupyter-widgets/controls",
            "layout": "IPY_MODEL_b652dced169e49628b2ce284f44569e2"
          }
        },
        "74058b4bc72446dfb7b3f35e259e18c8": {
          "model_module": "@jupyter-widgets/controls",
          "model_name": "HTMLModel",
          "state": {
            "_view_name": "HTMLView",
            "style": "IPY_MODEL_829d015965c042f492afba92f78f6767",
            "_dom_classes": [],
            "description": "",
            "_model_name": "HTMLModel",
            "placeholder": "​",
            "_view_module": "@jupyter-widgets/controls",
            "_model_module_version": "1.5.0",
            "value": " 456k/456k [00:00&lt;00:00, 976kB/s]",
            "_view_count": null,
            "_view_module_version": "1.5.0",
            "description_tooltip": null,
            "_model_module": "@jupyter-widgets/controls",
            "layout": "IPY_MODEL_8de7809cfeef4ad6964adbe839c07ff7"
          }
        },
        "becf645376004667b8481f05747cecef": {
          "model_module": "@jupyter-widgets/controls",
          "model_name": "ProgressStyleModel",
          "state": {
            "_view_name": "StyleView",
            "_model_name": "ProgressStyleModel",
            "description_width": "initial",
            "_view_module": "@jupyter-widgets/base",
            "_model_module_version": "1.5.0",
            "_view_count": null,
            "_view_module_version": "1.2.0",
            "bar_color": null,
            "_model_module": "@jupyter-widgets/controls"
          }
        },
        "b652dced169e49628b2ce284f44569e2": {
          "model_module": "@jupyter-widgets/base",
          "model_name": "LayoutModel",
          "state": {
            "_view_name": "LayoutView",
            "grid_template_rows": null,
            "right": null,
            "justify_content": null,
            "_view_module": "@jupyter-widgets/base",
            "overflow": null,
            "_model_module_version": "1.2.0",
            "_view_count": null,
            "flex_flow": null,
            "width": null,
            "min_width": null,
            "border": null,
            "align_items": null,
            "bottom": null,
            "_model_module": "@jupyter-widgets/base",
            "top": null,
            "grid_column": null,
            "overflow_y": null,
            "overflow_x": null,
            "grid_auto_flow": null,
            "grid_area": null,
            "grid_template_columns": null,
            "flex": null,
            "_model_name": "LayoutModel",
            "justify_items": null,
            "grid_row": null,
            "max_height": null,
            "align_content": null,
            "visibility": null,
            "align_self": null,
            "height": null,
            "min_height": null,
            "padding": null,
            "grid_auto_rows": null,
            "grid_gap": null,
            "max_width": null,
            "order": null,
            "_view_module_version": "1.2.0",
            "grid_template_areas": null,
            "object_position": null,
            "object_fit": null,
            "grid_auto_columns": null,
            "margin": null,
            "display": null,
            "left": null
          }
        },
        "829d015965c042f492afba92f78f6767": {
          "model_module": "@jupyter-widgets/controls",
          "model_name": "DescriptionStyleModel",
          "state": {
            "_view_name": "StyleView",
            "_model_name": "DescriptionStyleModel",
            "description_width": "",
            "_view_module": "@jupyter-widgets/base",
            "_model_module_version": "1.5.0",
            "_view_count": null,
            "_view_module_version": "1.2.0",
            "_model_module": "@jupyter-widgets/controls"
          }
        },
        "8de7809cfeef4ad6964adbe839c07ff7": {
          "model_module": "@jupyter-widgets/base",
          "model_name": "LayoutModel",
          "state": {
            "_view_name": "LayoutView",
            "grid_template_rows": null,
            "right": null,
            "justify_content": null,
            "_view_module": "@jupyter-widgets/base",
            "overflow": null,
            "_model_module_version": "1.2.0",
            "_view_count": null,
            "flex_flow": null,
            "width": null,
            "min_width": null,
            "border": null,
            "align_items": null,
            "bottom": null,
            "_model_module": "@jupyter-widgets/base",
            "top": null,
            "grid_column": null,
            "overflow_y": null,
            "overflow_x": null,
            "grid_auto_flow": null,
            "grid_area": null,
            "grid_template_columns": null,
            "flex": null,
            "_model_name": "LayoutModel",
            "justify_items": null,
            "grid_row": null,
            "max_height": null,
            "align_content": null,
            "visibility": null,
            "align_self": null,
            "height": null,
            "min_height": null,
            "padding": null,
            "grid_auto_rows": null,
            "grid_gap": null,
            "max_width": null,
            "order": null,
            "_view_module_version": "1.2.0",
            "grid_template_areas": null,
            "object_position": null,
            "object_fit": null,
            "grid_auto_columns": null,
            "margin": null,
            "display": null,
            "left": null
          }
        },
        "f7ce206efad6443db19fdcc801b188d6": {
          "model_module": "@jupyter-widgets/controls",
          "model_name": "HBoxModel",
          "state": {
            "_view_name": "HBoxView",
            "_dom_classes": [],
            "_model_name": "HBoxModel",
            "_view_module": "@jupyter-widgets/controls",
            "_model_module_version": "1.5.0",
            "_view_count": null,
            "_view_module_version": "1.5.0",
            "box_style": "",
            "layout": "IPY_MODEL_98274b99f0a248ccbedd460cd7997f73",
            "_model_module": "@jupyter-widgets/controls",
            "children": [
              "IPY_MODEL_1e013fde173946af82ed7902a7869e35",
              "IPY_MODEL_70bfa4db6efd4f36bd9fdbd5fe6bed6a"
            ]
          }
        },
        "98274b99f0a248ccbedd460cd7997f73": {
          "model_module": "@jupyter-widgets/base",
          "model_name": "LayoutModel",
          "state": {
            "_view_name": "LayoutView",
            "grid_template_rows": null,
            "right": null,
            "justify_content": null,
            "_view_module": "@jupyter-widgets/base",
            "overflow": null,
            "_model_module_version": "1.2.0",
            "_view_count": null,
            "flex_flow": null,
            "width": null,
            "min_width": null,
            "border": null,
            "align_items": null,
            "bottom": null,
            "_model_module": "@jupyter-widgets/base",
            "top": null,
            "grid_column": null,
            "overflow_y": null,
            "overflow_x": null,
            "grid_auto_flow": null,
            "grid_area": null,
            "grid_template_columns": null,
            "flex": null,
            "_model_name": "LayoutModel",
            "justify_items": null,
            "grid_row": null,
            "max_height": null,
            "align_content": null,
            "visibility": null,
            "align_self": null,
            "height": null,
            "min_height": null,
            "padding": null,
            "grid_auto_rows": null,
            "grid_gap": null,
            "max_width": null,
            "order": null,
            "_view_module_version": "1.2.0",
            "grid_template_areas": null,
            "object_position": null,
            "object_fit": null,
            "grid_auto_columns": null,
            "margin": null,
            "display": null,
            "left": null
          }
        },
        "1e013fde173946af82ed7902a7869e35": {
          "model_module": "@jupyter-widgets/controls",
          "model_name": "FloatProgressModel",
          "state": {
            "_view_name": "ProgressView",
            "style": "IPY_MODEL_1b09a097c143424783f43c8e6488246f",
            "_dom_classes": [],
            "description": "Downloading: 100%",
            "_model_name": "FloatProgressModel",
            "bar_style": "success",
            "max": 481,
            "_view_module": "@jupyter-widgets/controls",
            "_model_module_version": "1.5.0",
            "value": 481,
            "_view_count": null,
            "_view_module_version": "1.5.0",
            "orientation": "horizontal",
            "min": 0,
            "description_tooltip": null,
            "_model_module": "@jupyter-widgets/controls",
            "layout": "IPY_MODEL_137f7a6216d34f4d8779a1c98739c5a9"
          }
        },
        "70bfa4db6efd4f36bd9fdbd5fe6bed6a": {
          "model_module": "@jupyter-widgets/controls",
          "model_name": "HTMLModel",
          "state": {
            "_view_name": "HTMLView",
            "style": "IPY_MODEL_00ee61a89a70463e8ea8debb06bdc397",
            "_dom_classes": [],
            "description": "",
            "_model_name": "HTMLModel",
            "placeholder": "​",
            "_view_module": "@jupyter-widgets/controls",
            "_model_module_version": "1.5.0",
            "value": " 481/481 [00:00&lt;00:00, 1.57kB/s]",
            "_view_count": null,
            "_view_module_version": "1.5.0",
            "description_tooltip": null,
            "_model_module": "@jupyter-widgets/controls",
            "layout": "IPY_MODEL_a39f9c78294e4e36a79d89194a83e919"
          }
        },
        "1b09a097c143424783f43c8e6488246f": {
          "model_module": "@jupyter-widgets/controls",
          "model_name": "ProgressStyleModel",
          "state": {
            "_view_name": "StyleView",
            "_model_name": "ProgressStyleModel",
            "description_width": "initial",
            "_view_module": "@jupyter-widgets/base",
            "_model_module_version": "1.5.0",
            "_view_count": null,
            "_view_module_version": "1.2.0",
            "bar_color": null,
            "_model_module": "@jupyter-widgets/controls"
          }
        },
        "137f7a6216d34f4d8779a1c98739c5a9": {
          "model_module": "@jupyter-widgets/base",
          "model_name": "LayoutModel",
          "state": {
            "_view_name": "LayoutView",
            "grid_template_rows": null,
            "right": null,
            "justify_content": null,
            "_view_module": "@jupyter-widgets/base",
            "overflow": null,
            "_model_module_version": "1.2.0",
            "_view_count": null,
            "flex_flow": null,
            "width": null,
            "min_width": null,
            "border": null,
            "align_items": null,
            "bottom": null,
            "_model_module": "@jupyter-widgets/base",
            "top": null,
            "grid_column": null,
            "overflow_y": null,
            "overflow_x": null,
            "grid_auto_flow": null,
            "grid_area": null,
            "grid_template_columns": null,
            "flex": null,
            "_model_name": "LayoutModel",
            "justify_items": null,
            "grid_row": null,
            "max_height": null,
            "align_content": null,
            "visibility": null,
            "align_self": null,
            "height": null,
            "min_height": null,
            "padding": null,
            "grid_auto_rows": null,
            "grid_gap": null,
            "max_width": null,
            "order": null,
            "_view_module_version": "1.2.0",
            "grid_template_areas": null,
            "object_position": null,
            "object_fit": null,
            "grid_auto_columns": null,
            "margin": null,
            "display": null,
            "left": null
          }
        },
        "00ee61a89a70463e8ea8debb06bdc397": {
          "model_module": "@jupyter-widgets/controls",
          "model_name": "DescriptionStyleModel",
          "state": {
            "_view_name": "StyleView",
            "_model_name": "DescriptionStyleModel",
            "description_width": "",
            "_view_module": "@jupyter-widgets/base",
            "_model_module_version": "1.5.0",
            "_view_count": null,
            "_view_module_version": "1.2.0",
            "_model_module": "@jupyter-widgets/controls"
          }
        },
        "a39f9c78294e4e36a79d89194a83e919": {
          "model_module": "@jupyter-widgets/base",
          "model_name": "LayoutModel",
          "state": {
            "_view_name": "LayoutView",
            "grid_template_rows": null,
            "right": null,
            "justify_content": null,
            "_view_module": "@jupyter-widgets/base",
            "overflow": null,
            "_model_module_version": "1.2.0",
            "_view_count": null,
            "flex_flow": null,
            "width": null,
            "min_width": null,
            "border": null,
            "align_items": null,
            "bottom": null,
            "_model_module": "@jupyter-widgets/base",
            "top": null,
            "grid_column": null,
            "overflow_y": null,
            "overflow_x": null,
            "grid_auto_flow": null,
            "grid_area": null,
            "grid_template_columns": null,
            "flex": null,
            "_model_name": "LayoutModel",
            "justify_items": null,
            "grid_row": null,
            "max_height": null,
            "align_content": null,
            "visibility": null,
            "align_self": null,
            "height": null,
            "min_height": null,
            "padding": null,
            "grid_auto_rows": null,
            "grid_gap": null,
            "max_width": null,
            "order": null,
            "_view_module_version": "1.2.0",
            "grid_template_areas": null,
            "object_position": null,
            "object_fit": null,
            "grid_auto_columns": null,
            "margin": null,
            "display": null,
            "left": null
          }
        },
        "0238ef6f87e7472fa81ada01338d7d61": {
          "model_module": "@jupyter-widgets/controls",
          "model_name": "HBoxModel",
          "state": {
            "_view_name": "HBoxView",
            "_dom_classes": [],
            "_model_name": "HBoxModel",
            "_view_module": "@jupyter-widgets/controls",
            "_model_module_version": "1.5.0",
            "_view_count": null,
            "_view_module_version": "1.5.0",
            "box_style": "",
            "layout": "IPY_MODEL_2999248e8916434db74a03ffa46f83dc",
            "_model_module": "@jupyter-widgets/controls",
            "children": [
              "IPY_MODEL_0cb7961c307b467c9f6836b3915d7431",
              "IPY_MODEL_aec189b0e7654b26b457d25745650c9b"
            ]
          }
        },
        "2999248e8916434db74a03ffa46f83dc": {
          "model_module": "@jupyter-widgets/base",
          "model_name": "LayoutModel",
          "state": {
            "_view_name": "LayoutView",
            "grid_template_rows": null,
            "right": null,
            "justify_content": null,
            "_view_module": "@jupyter-widgets/base",
            "overflow": null,
            "_model_module_version": "1.2.0",
            "_view_count": null,
            "flex_flow": null,
            "width": null,
            "min_width": null,
            "border": null,
            "align_items": null,
            "bottom": null,
            "_model_module": "@jupyter-widgets/base",
            "top": null,
            "grid_column": null,
            "overflow_y": null,
            "overflow_x": null,
            "grid_auto_flow": null,
            "grid_area": null,
            "grid_template_columns": null,
            "flex": null,
            "_model_name": "LayoutModel",
            "justify_items": null,
            "grid_row": null,
            "max_height": null,
            "align_content": null,
            "visibility": null,
            "align_self": null,
            "height": null,
            "min_height": null,
            "padding": null,
            "grid_auto_rows": null,
            "grid_gap": null,
            "max_width": null,
            "order": null,
            "_view_module_version": "1.2.0",
            "grid_template_areas": null,
            "object_position": null,
            "object_fit": null,
            "grid_auto_columns": null,
            "margin": null,
            "display": null,
            "left": null
          }
        },
        "0cb7961c307b467c9f6836b3915d7431": {
          "model_module": "@jupyter-widgets/controls",
          "model_name": "FloatProgressModel",
          "state": {
            "_view_name": "ProgressView",
            "style": "IPY_MODEL_ed8bc6077c6c4fa692c28c280a9c3c08",
            "_dom_classes": [],
            "description": "Downloading: 100%",
            "_model_name": "FloatProgressModel",
            "bar_style": "success",
            "max": 501200538,
            "_view_module": "@jupyter-widgets/controls",
            "_model_module_version": "1.5.0",
            "value": 501200538,
            "_view_count": null,
            "_view_module_version": "1.5.0",
            "orientation": "horizontal",
            "min": 0,
            "description_tooltip": null,
            "_model_module": "@jupyter-widgets/controls",
            "layout": "IPY_MODEL_44ecb4ac47d74a1882987c270d162bb8"
          }
        },
        "aec189b0e7654b26b457d25745650c9b": {
          "model_module": "@jupyter-widgets/controls",
          "model_name": "HTMLModel",
          "state": {
            "_view_name": "HTMLView",
            "style": "IPY_MODEL_c2f5eec894f44fcba3524bdaae7e6e12",
            "_dom_classes": [],
            "description": "",
            "_model_name": "HTMLModel",
            "placeholder": "​",
            "_view_module": "@jupyter-widgets/controls",
            "_model_module_version": "1.5.0",
            "value": " 501M/501M [00:09&lt;00:00, 51.6MB/s]",
            "_view_count": null,
            "_view_module_version": "1.5.0",
            "description_tooltip": null,
            "_model_module": "@jupyter-widgets/controls",
            "layout": "IPY_MODEL_a86bcd3e04c444ad9334aa2ced212ed4"
          }
        },
        "ed8bc6077c6c4fa692c28c280a9c3c08": {
          "model_module": "@jupyter-widgets/controls",
          "model_name": "ProgressStyleModel",
          "state": {
            "_view_name": "StyleView",
            "_model_name": "ProgressStyleModel",
            "description_width": "initial",
            "_view_module": "@jupyter-widgets/base",
            "_model_module_version": "1.5.0",
            "_view_count": null,
            "_view_module_version": "1.2.0",
            "bar_color": null,
            "_model_module": "@jupyter-widgets/controls"
          }
        },
        "44ecb4ac47d74a1882987c270d162bb8": {
          "model_module": "@jupyter-widgets/base",
          "model_name": "LayoutModel",
          "state": {
            "_view_name": "LayoutView",
            "grid_template_rows": null,
            "right": null,
            "justify_content": null,
            "_view_module": "@jupyter-widgets/base",
            "overflow": null,
            "_model_module_version": "1.2.0",
            "_view_count": null,
            "flex_flow": null,
            "width": null,
            "min_width": null,
            "border": null,
            "align_items": null,
            "bottom": null,
            "_model_module": "@jupyter-widgets/base",
            "top": null,
            "grid_column": null,
            "overflow_y": null,
            "overflow_x": null,
            "grid_auto_flow": null,
            "grid_area": null,
            "grid_template_columns": null,
            "flex": null,
            "_model_name": "LayoutModel",
            "justify_items": null,
            "grid_row": null,
            "max_height": null,
            "align_content": null,
            "visibility": null,
            "align_self": null,
            "height": null,
            "min_height": null,
            "padding": null,
            "grid_auto_rows": null,
            "grid_gap": null,
            "max_width": null,
            "order": null,
            "_view_module_version": "1.2.0",
            "grid_template_areas": null,
            "object_position": null,
            "object_fit": null,
            "grid_auto_columns": null,
            "margin": null,
            "display": null,
            "left": null
          }
        },
        "c2f5eec894f44fcba3524bdaae7e6e12": {
          "model_module": "@jupyter-widgets/controls",
          "model_name": "DescriptionStyleModel",
          "state": {
            "_view_name": "StyleView",
            "_model_name": "DescriptionStyleModel",
            "description_width": "",
            "_view_module": "@jupyter-widgets/base",
            "_model_module_version": "1.5.0",
            "_view_count": null,
            "_view_module_version": "1.2.0",
            "_model_module": "@jupyter-widgets/controls"
          }
        },
        "a86bcd3e04c444ad9334aa2ced212ed4": {
          "model_module": "@jupyter-widgets/base",
          "model_name": "LayoutModel",
          "state": {
            "_view_name": "LayoutView",
            "grid_template_rows": null,
            "right": null,
            "justify_content": null,
            "_view_module": "@jupyter-widgets/base",
            "overflow": null,
            "_model_module_version": "1.2.0",
            "_view_count": null,
            "flex_flow": null,
            "width": null,
            "min_width": null,
            "border": null,
            "align_items": null,
            "bottom": null,
            "_model_module": "@jupyter-widgets/base",
            "top": null,
            "grid_column": null,
            "overflow_y": null,
            "overflow_x": null,
            "grid_auto_flow": null,
            "grid_area": null,
            "grid_template_columns": null,
            "flex": null,
            "_model_name": "LayoutModel",
            "justify_items": null,
            "grid_row": null,
            "max_height": null,
            "align_content": null,
            "visibility": null,
            "align_self": null,
            "height": null,
            "min_height": null,
            "padding": null,
            "grid_auto_rows": null,
            "grid_gap": null,
            "max_width": null,
            "order": null,
            "_view_module_version": "1.2.0",
            "grid_template_areas": null,
            "object_position": null,
            "object_fit": null,
            "grid_auto_columns": null,
            "margin": null,
            "display": null,
            "left": null
          }
        }
      }
    }
  },
  "cells": [
    {
      "cell_type": "code",
      "metadata": {
        "colab": {
          "base_uri": "https://localhost:8080/"
        },
        "id": "Ik4UrqhtEr46",
        "outputId": "56d88e50-99a1-4439-884e-33bca208dd39"
      },
      "source": [
        "!pip install transformers --quiet\n",
        "!pip install fasttext --quiet"
      ],
      "execution_count": 2,
      "outputs": [
        {
          "output_type": "stream",
          "text": [
            "\u001b[K     |████████████████████████████████| 1.4MB 11.3MB/s \n",
            "\u001b[K     |████████████████████████████████| 890kB 48.7MB/s \n",
            "\u001b[K     |████████████████████████████████| 2.9MB 55.2MB/s \n",
            "\u001b[?25h  Building wheel for sacremoses (setup.py) ... \u001b[?25l\u001b[?25hdone\n",
            "\u001b[K     |████████████████████████████████| 71kB 5.5MB/s \n",
            "\u001b[?25h  Building wheel for fasttext (setup.py) ... \u001b[?25l\u001b[?25hdone\n"
          ],
          "name": "stdout"
        }
      ]
    },
    {
      "cell_type": "code",
      "metadata": {
        "id": "2EFLGm5lEuA9"
      },
      "source": [
        "from nltk.corpus import brown\n",
        "import nltk\n",
        "\n",
        "import string\n",
        "import os, errno\n",
        "\n",
        "import fasttext\n",
        "import csv\n",
        "\n",
        "import pandas as pd\n",
        "from sklearn.model_selection import train_test_split\n",
        "\n",
        "import matplotlib.pyplot as plt\n",
        "import pandas as pd\n",
        "import torch\n",
        "\n",
        "device = torch.device(\"cuda\" if torch.cuda.is_available() else \"cpu\")\n",
        "from torchtext.data import Field, TabularDataset, BucketIterator\n",
        "import torch.nn as nn\n",
        "from torch.nn.utils.rnn import pack_padded_sequence, pad_packed_sequence\n",
        "import torch.optim as optim\n",
        "\n",
        "from sklearn.metrics import accuracy_score, classification_report, confusion_matrix\n",
        "import seaborn as sns"
      ],
      "execution_count": 3,
      "outputs": []
    },
    {
      "cell_type": "code",
      "metadata": {
        "colab": {
          "base_uri": "https://localhost:8080/"
        },
        "id": "0ewjg1MEFXzw",
        "outputId": "aafea674-9bfe-4371-9907-777ec3202aa1"
      },
      "source": [
        "# Download the Brown corpus\n",
        "nltk.download('brown')\n",
        "\n",
        "# Assert that necessary Python files are in current directory\n",
        "assert os.path.exists('./createModel.py')\n",
        "assert os.path.exists('./demoBERT.py')\n",
        "#assert os.path.exists('./demoRoBERTa.py')\n",
        "\n",
        "# Create a 'lstm' folder if it doesn't exist\n",
        "try:\n",
        "  os.makedirs('lstm')\n",
        "except OSError as e:\n",
        "  if e.errno != errno.EEXIST:\n",
        "    raise"
      ],
      "execution_count": 5,
      "outputs": [
        {
          "output_type": "stream",
          "text": [
            "[nltk_data] Downloading package brown to /root/nltk_data...\n",
            "[nltk_data]   Package brown is already up-to-date!\n"
          ],
          "name": "stdout"
        }
      ]
    },
    {
      "cell_type": "code",
      "metadata": {
        "colab": {
          "base_uri": "https://localhost:8080/",
          "height": 363,
          "referenced_widgets": [
            "6ae18791006a46899845766f9ad185d1",
            "cdfa5a92a5604c2a9eb38baf61236562",
            "6a676432453a44d8bf3505d7ef548b3a",
            "2da807edbe654bd8a387f0db25f2388a",
            "5bf013328a78428eac25a6c22908279e",
            "7305a4d5d0d840f186871e3c9edb4a92",
            "3c42f0a31ef948a7859bc25b2c82e299",
            "e69b3e5744364a4a964e5bb64a611c0c",
            "f868e99b590d4b779b29636f03dd4683",
            "39233830a8404fa1be46ecfc0e64d89b",
            "0bd0941556254676a00858aa548b2b73",
            "74058b4bc72446dfb7b3f35e259e18c8",
            "becf645376004667b8481f05747cecef",
            "b652dced169e49628b2ce284f44569e2",
            "829d015965c042f492afba92f78f6767",
            "8de7809cfeef4ad6964adbe839c07ff7",
            "f7ce206efad6443db19fdcc801b188d6",
            "98274b99f0a248ccbedd460cd7997f73",
            "1e013fde173946af82ed7902a7869e35",
            "70bfa4db6efd4f36bd9fdbd5fe6bed6a",
            "1b09a097c143424783f43c8e6488246f",
            "137f7a6216d34f4d8779a1c98739c5a9",
            "00ee61a89a70463e8ea8debb06bdc397",
            "a39f9c78294e4e36a79d89194a83e919",
            "0238ef6f87e7472fa81ada01338d7d61",
            "2999248e8916434db74a03ffa46f83dc",
            "0cb7961c307b467c9f6836b3915d7431",
            "aec189b0e7654b26b457d25745650c9b",
            "ed8bc6077c6c4fa692c28c280a9c3c08",
            "44ecb4ac47d74a1882987c270d162bb8",
            "c2f5eec894f44fcba3524bdaae7e6e12",
            "a86bcd3e04c444ad9334aa2ced212ed4"
          ]
        },
        "id": "UavvJMfeGHec",
        "outputId": "40585ecd-f809-43dc-a135-f39a7878468f"
      },
      "source": [
        "from createModel import *\n",
        "#from demoBERT import *\n",
        "from demoRoBERTa import *"
      ],
      "execution_count": 25,
      "outputs": [
        {
          "output_type": "display_data",
          "data": {
            "application/vnd.jupyter.widget-view+json": {
              "model_id": "6ae18791006a46899845766f9ad185d1",
              "version_minor": 0,
              "version_major": 2
            },
            "text/plain": [
              "HBox(children=(FloatProgress(value=0.0, description='Downloading', max=898823.0, style=ProgressStyle(descripti…"
            ]
          },
          "metadata": {
            "tags": []
          }
        },
        {
          "output_type": "stream",
          "text": [
            "\n"
          ],
          "name": "stdout"
        },
        {
          "output_type": "display_data",
          "data": {
            "application/vnd.jupyter.widget-view+json": {
              "model_id": "f868e99b590d4b779b29636f03dd4683",
              "version_minor": 0,
              "version_major": 2
            },
            "text/plain": [
              "HBox(children=(FloatProgress(value=0.0, description='Downloading', max=456318.0, style=ProgressStyle(descripti…"
            ]
          },
          "metadata": {
            "tags": []
          }
        },
        {
          "output_type": "stream",
          "text": [
            "\n"
          ],
          "name": "stdout"
        },
        {
          "output_type": "display_data",
          "data": {
            "application/vnd.jupyter.widget-view+json": {
              "model_id": "f7ce206efad6443db19fdcc801b188d6",
              "version_minor": 0,
              "version_major": 2
            },
            "text/plain": [
              "HBox(children=(FloatProgress(value=0.0, description='Downloading', max=481.0, style=ProgressStyle(description_…"
            ]
          },
          "metadata": {
            "tags": []
          }
        },
        {
          "output_type": "stream",
          "text": [
            "\n"
          ],
          "name": "stdout"
        },
        {
          "output_type": "display_data",
          "data": {
            "application/vnd.jupyter.widget-view+json": {
              "model_id": "0238ef6f87e7472fa81ada01338d7d61",
              "version_minor": 0,
              "version_major": 2
            },
            "text/plain": [
              "HBox(children=(FloatProgress(value=0.0, description='Downloading', max=501200538.0, style=ProgressStyle(descri…"
            ]
          },
          "metadata": {
            "tags": []
          }
        },
        {
          "output_type": "stream",
          "text": [
            "\n"
          ],
          "name": "stdout"
        },
        {
          "output_type": "stream",
          "text": [
            "Some weights of RobertaForCausalLM were not initialized from the model checkpoint at roberta-base and are newly initialized: ['lm_head.decoder.bias']\n",
            "You should probably TRAIN this model on a down-stream task to be able to use it for predictions and inference.\n"
          ],
          "name": "stderr"
        },
        {
          "output_type": "stream",
          "text": [
            "ranks before : [1783, 15334, 1255, 6336, 9214, 10334, 3409, 261, 1622, 52]\n",
            "cover_text:  Hello world, today we are going to present you a tutorial about how to cook a turkey. Please follow this tutorial carefully,  suspKKpe replied threatens shootingnick […] Example and\n",
            "\n",
            "ranks after: [1783, 15334, 1255, 6336, 9214, 10334, 3409, 261, 1622, 52]\n",
            ". this message is super secret please do not share it\n"
          ],
          "name": "stdout"
        }
      ]
    },
    {
      "cell_type": "code",
      "metadata": {
        "colab": {
          "base_uri": "https://localhost:8080/"
        },
        "id": "Rr55Sj_tRK5a",
        "outputId": "7f74ce91-3490-4e97-c56f-6148c8688a3e"
      },
      "source": [
        "mod, tok = buildModelRoBERTa()"
      ],
      "execution_count": 26,
      "outputs": [
        {
          "output_type": "stream",
          "text": [
            "Some weights of RobertaForCausalLM were not initialized from the model checkpoint at roberta-base and are newly initialized: ['lm_head.decoder.bias']\n",
            "You should probably TRAIN this model on a down-stream task to be able to use it for predictions and inference.\n"
          ],
          "name": "stderr"
        }
      ]
    },
    {
      "cell_type": "code",
      "metadata": {
        "id": "GuTZD79ARLQQ"
      },
      "source": [
        "def gen_fake_text(start_text, start_secret, secret_text):\n",
        "  ranks = get_ranks(mod, tok, start_secret, secret_text)\n",
        "  cover_text = generate_cover_text(mod, tok, start_text, ranks)\n",
        "\n",
        "  output_text = cover_text\n",
        "  return output_text"
      ],
      "execution_count": 27,
      "outputs": []
    },
    {
      "cell_type": "code",
      "metadata": {
        "id": "XnNy5QDdRNv0"
      },
      "source": [
        "start_text = \"\"\"\n",
        "Welcome to the Shakespeare festival in London, UK. Today\n",
        "\"\"\"\n",
        "\n",
        "start_secret = \"Secret\"\n",
        "secret_text = \"A secret message for Joe\""
      ],
      "execution_count": 28,
      "outputs": []
    },
    {
      "cell_type": "code",
      "metadata": {
        "colab": {
          "base_uri": "https://localhost:8080/"
        },
        "id": "V1feBKPJRPZK",
        "outputId": "3bc86dae-c229-4867-c627-02dd1acff96b"
      },
      "source": [
        "print(gen_fake_text(start_text, start_secret, secret_text))"
      ],
      "execution_count": 29,
      "outputs": [
        {
          "output_type": "stream",
          "text": [
            "\n",
            "Welcome to the Shakespeare festival in London, UK. Today\n",
            "YouadjKickrov Condition\n"
          ],
          "name": "stdout"
        }
      ]
    },
    {
      "cell_type": "code",
      "metadata": {
        "id": "2mugkp4gRRLH"
      },
      "source": [
        "news_text = brown.sents(categories=['news'])[:100]\n",
        "fake_news = []\n",
        "true_news = []\n",
        "\n",
        "secret_text_length = 5"
      ],
      "execution_count": 30,
      "outputs": []
    },
    {
      "cell_type": "code",
      "metadata": {
        "colab": {
          "base_uri": "https://localhost:8080/"
        },
        "id": "1lsEloPGRT0B",
        "outputId": "b84f78f7-b863-4194-d7c0-74fdaf3ec620"
      },
      "source": [
        "for sentence in news_text:\n",
        "  if len(sentence) <= secret_text_length:\n",
        "    continue\n",
        "\n",
        "  sentence_true = ' '.join(sentence)\n",
        "\n",
        "  sentence_true = sentence_true.lower()\n",
        "\n",
        "  true_news.append(sentence_true)\n",
        "\n",
        "  sentence_fake = ' '.join(sentence[:-secret_text_length])\n",
        "  print(sentence_fake)\n",
        "  sentence_fake = gen_fake_text(sentence_fake, start_secret, secret_text)\n",
        "\n",
        "  fake_news.append(sentence_fake)"
      ],
      "execution_count": 31,
      "outputs": [
        {
          "output_type": "stream",
          "text": [
            "The Fulton County Grand Jury said Friday an investigation of Atlanta's recent primary election produced `` no evidence '' that\n",
            "The jury further said in term-end presentments that the City Executive Committee , which had over-all charge of the election , `` deserves the praise and thanks of the City of Atlanta '' for the manner in which\n",
            "The September-October term jury had been charged by Fulton Superior Court Judge Durwood Pye to investigate reports of possible `` irregularities '' in the hard-fought primary which was won by\n",
            "`` Only a relative handful of such reports was received '' , the jury said , `` considering the widespread interest in the election , the number of voters and the size\n",
            "The jury said it did find that many of Georgia's registration and election laws `` are outmoded or inadequate\n",
            "It recommended that Fulton legislators act `` to have these laws studied and revised to the end of modernizing\n",
            "The grand jury commented on a number of other topics , among them the Atlanta and Fulton County purchasing departments which it said `` are well operated and follow generally accepted practices which inure to the best interest\n",
            "However , the jury said it believes `` these two offices should be combined to achieve greater efficiency and reduce the\n",
            "The City Purchasing Department , the jury said , `` is lacking in experienced clerical personnel as a result of\n",
            "It urged that the city `` take steps to\n",
            "Implementation of Georgia's automobile title law was also recommended\n",
            "It urged that the next Legislature `` provide enabling funds and re-set the effective date so that an orderly implementation of the law\n",
            "The grand jury took a swipe at the State Welfare Department's handling of federal funds granted for child welfare\n",
            "`` This is one of the major items in the Fulton County general assistance program '' , the jury said , but the State Welfare Department `` has seen fit to distribute these funds through the welfare departments of all the counties in the state with the exception of Fulton County , which receives\n",
            "The jurors said they realize `` a proportionate distribution of these funds might disable this program in our\n",
            "Nevertheless , `` we feel that in the future Fulton County should receive some portion of these available funds ''\n",
            "`` Failure to do this will continue to place a disproportionate burden\n",
            "The jury also commented on the Fulton ordinary's court which has been under fire for its practices in the appointment of appraisers , guardians and administrators and the awarding\n",
            "The jury said it found the court `` has incorporated into its operating procedures the recommendations '' of two previous grand juries , the Atlanta Bar Association and\n",
            "`` These actions should serve to protect in fact and in effect the court's wards from undue costs and its appointed and elected servants from unmeritorious criticisms ''\n",
            "Regarding Atlanta's new multi-million-dollar airport , the jury recommended `` that when the new management takes charge Jan. 1 the airport be operated in a manner that will\n",
            "The jury did not elaborate , but it added that `` there should be periodic surveillance of the pricing practices of the concessionaires for the purpose of keeping\n",
            "On other matters , the jury recommended\n",
            "Four additional deputies be employed at the Fulton County Jail and `` a doctor , medical intern or extern be employed for night and weekend duty\n",
            "Fulton legislators `` work with city officials to pass enabling legislation that will permit the establishment of a fair and equitable '' pension\n",
            "The jury praised the administration and operation of the Atlanta Police Department , the Fulton Tax Commissioner's Office , the Bellwood and Alpharetta prison farms , Grady Hospital and\n",
            "Mayor William B. Hartsfield filed suit for divorce from his wife , Pearl Williams Hartsfield , in\n",
            "His\n",
            "The couple was married\n",
            "They have a son , William Berry Jr. , and a daughter , Mrs. J.\n",
            "Attorneys for the mayor said that an amicable property settlement\n",
            "The petition listed the mayor's occupation as `` attorney '' and\n",
            "It listed his wife's age as 74 and place of birth\n",
            "The petition said that the couple has not lived together as man and wife for\n",
            "The Hartsfield home is at 637\n",
            "Henry L. Bowden was listed on the petition\n",
            "Hartsfield has been mayor of Atlanta , with exception of one brief\n",
            "His political career goes back to his election to\n",
            "The mayor's present term of\n",
            "He will be succeeded by Ivan Allen Jr. , who became a candidate in the Sept. 13 primary after Mayor Hartsfield announced that he would\n",
            "Georgia Republicans are getting strong encouragement to enter a candidate in the 1962 governor's race , a\n",
            "Robert Snodgrass , state GOP chairman , said a meeting held Tuesday night in Blue Ridge brought enthusiastic\n",
            "State Party Chairman James W. Dorsey added that enthusiasm was picking up for a state rally to be held Sept. 8 in Savannah at which newly elected Texas Sen. John Tower will\n",
            "In the Blue Ridge meeting , the audience was warned that entering a candidate for governor would force it to take petitions out into voting precincts to obtain the\n",
            "Despite the warning , there was a unanimous vote to enter a candidate , according\n",
            "When the crowd was asked whether it wanted to wait one more term to make the race , it voted no -- and\n",
            "The largest hurdle the Republicans would have to face is a state law which says that before making a first race , one of two alternative courses\n",
            "Five per cent of the voters in each county must sign petitions requesting that the Republicans be allowed to place names of candidates on the general\n",
            "The Republicans must hold a primary under the county unit system -- a system which the party\n",
            "Sam Caldwell , State Highway Department public relations director , resigned Tuesday to work for Lt.\n",
            "Caldwell's resignation had been\n",
            "He will be succeeded by Rob Ledford of Gainesville , who has been an assistant\n",
            "When the gubernatorial campaign starts , Caldwell is expected to become a\n",
            "The Georgia Legislature will wind up its 1961 session Monday and head for home -- where some of the highway bond money it\n",
            "Before adjournment Monday afternoon , the Senate is expected to approve a study of the number of legislators allotted to rural and urban areas to determine what\n",
            "Gov. Vandiver is expected to make the traditional visit to both chambers as\n",
            "Vandiver likely will mention the $100 million highway bond issue approved earlier in the session as\n",
            "Meanwhile , it was learned the State Highway Department is very near being ready to issue the first $30 million worth\n",
            "The bond issue will go to the state courts for a friendly test suit to test the validity of the act , and then the sales will begin and contracts let for repair work on some of Georgia's\n",
            "A Highway Department source said there also is a plan there to issue some $3 million to $4 million worth of Rural Roads Authority bonds for\n",
            "The department apparently intends to make the Rural Roads Authority a revolving fund under which new bonds would be issued every time a portion of the old ones are paid\n",
            "Vandiver opened his race for governor in 1958 with a battle in the Legislature against the issuance of $50 million worth of additional rural roads bonds proposed by\n",
            "The Highway Department source told The Constitution , however , that Vandiver has not been consulted yet about the plans to issue the\n",
            "Schley County Rep. B. D. Pelham will offer a resolution Monday in the House to rescind the body's action of Friday in voting itself a $10 per day\n",
            "Pelham said Sunday night there was research being done on whether the `` quickie '' vote on the increase can be repealed outright or whether notice would have to first be given that reconsideration of the\n",
            "While emphasizing that technical details were not fully worked out , Pelham said his resolution would seek to set aside the privilege resolution which the\n",
            "A similar resolution passed in the Senate by\n",
            "As of Sunday night , there was no word of a resolution being offered there\n",
            "Pelham pointed out that Georgia voters last November rejected a constitutional amendment to allow legislators to vote on pay raises\n",
            "A veteran Jackson County legislator will ask the Georgia House Monday to back federal aid to education , something it has consistently\n",
            "Rep. Mac Barber of Commerce is asking the House in a privilege resolution to `` endorse increased federal support for public education , provided that such funds be received and expended\n",
            "Barber , who is in his 13th year as a legislator , said there `` are some members of our congressional delegation in Washington who would like to see it ( the\n",
            "But he added that none of Georgia's congressmen specifically asked him\n",
            "The resolution , which Barber tossed into the House hopper Friday , will\n",
            "It says that `` in the event Congress does provide this increase in federal funds '' , the State Board of Education should be directed to `` give priority ''\n",
            "-- After a long , hot controversy , Miller County has a new school superintendent , elected , as a policeman put it , in the `` coolest election I ever saw\n",
            "The new school superintendent is Harry Davis , a veteran agriculture teacher , who defeated Felix Bush , a school principal and chairman of the Miller\n",
            "Davis received 1,119 votes in Saturday's election ,\n",
            "Ordinary Carey Williams , armed with a pistol , stood by at the\n",
            "`` This was the coolest , calmest election I ever saw '' , Colquitt\n",
            "`` Being at the polls was just\n",
            "I didn't smell a drop of liquor , and we didn't have a\n",
            "The campaign leading to the election was not\n",
            "It was marked by controversy , anonymous midnight phone calls and\n",
            "The former county school superintendent , George P. Callan , shot himself to death March 18 , four days after he resigned his post in a dispute with\n",
            "During the election campaign , both candidates , Davis and Bush , reportedly\n",
            "Ordinary Williams said he , too , was subjected to anonymous calls soon after\n",
            "Many local citizens feared that there would be irregularities at the polls , and Williams got himself a permit to carry a gun and\n",
            "Sheriff Felix Tabb said the ordinary apparently\n",
            "`` Everything went real smooth ''\n",
            "`` There wasn't a\n",
            "-- Committee approval of Gov. Price Daniel's `` abandoned property '' act seemed certain Thursday despite the adamant\n"
          ],
          "name": "stdout"
        }
      ]
    },
    {
      "cell_type": "code",
      "metadata": {
        "colab": {
          "base_uri": "https://localhost:8080/"
        },
        "id": "VcJn1EGURV5W",
        "outputId": "be944622-a519-4ba1-e06c-64c03f54401f"
      },
      "source": [
        "punctuation_dict = {}\n",
        "for x in string.punctuation:\n",
        "  punctuation_dict[ord(x)] = None\n",
        "\n",
        "print(true_news[1].translate(punctuation_dict))\n",
        "\n",
        "for i in range(len(true_news)):\n",
        "  true_news[i] = true_news[i].translate(punctuation_dict)\n",
        "\n",
        "for i in range(len(fake_news)):\n",
        "  fake_news[i] = fake_news[i].translate(punctuation_dict)\n",
        "\n",
        "# s.translate({ord(c): None for c in string.whitespace})"
      ],
      "execution_count": 32,
      "outputs": [
        {
          "output_type": "stream",
          "text": [
            "the jury further said in termend presentments that the city executive committee  which had overall charge of the election   deserves the praise and thanks of the city of atlanta  for the manner in which the election was conducted \n"
          ],
          "name": "stdout"
        }
      ]
    },
    {
      "cell_type": "code",
      "metadata": {
        "id": "YfkfSye-RYht"
      },
      "source": [
        "for i in range(len(true_news)):\n",
        "  true_news[i] = true_news[i].lower()"
      ],
      "execution_count": 33,
      "outputs": []
    },
    {
      "cell_type": "code",
      "metadata": {
        "id": "g-kStQfgWD6I"
      },
      "source": [
        "for i in range(len(true_news)):\n",
        "  true_news[i] = true_news[i].strip()\n",
        "\n",
        "for i in range(len(fake_news)):\n",
        "  fake_news[i] = fake_news[i].strip()"
      ],
      "execution_count": 34,
      "outputs": []
    },
    {
      "cell_type": "code",
      "metadata": {
        "id": "lyJldCqlWQJU"
      },
      "source": [
        "destination_folder = './lstm/'\n",
        "\n",
        "train_test_ratio = 0.90\n",
        "train_valid_ratio = 0.80\n",
        "\n",
        "first_n_words = 200\n",
        "\n",
        "def trim_string(x):\n",
        "    x = x.split(maxsplit=first_n_words)\n",
        "    x = ' '.join(x[:first_n_words])\n",
        "    return x"
      ],
      "execution_count": 35,
      "outputs": []
    },
    {
      "cell_type": "code",
      "metadata": {
        "colab": {
          "base_uri": "https://localhost:8080/",
          "height": 419
        },
        "id": "CiYmgnt1WTtA",
        "outputId": "0dc10b44-14fd-48f8-c9f5-9a5631717197"
      },
      "source": [
        "all_dict = {'text': true_news + fake_news, 'label': [0]*len(true_news)+[1]*len(fake_news)}\n",
        "\n",
        "df = pd.DataFrame(data=all_dict, columns=['label', 'text'])\n",
        "df"
      ],
      "execution_count": 36,
      "outputs": [
        {
          "output_type": "execute_result",
          "data": {
            "text/html": [
              "<div>\n",
              "<style scoped>\n",
              "    .dataframe tbody tr th:only-of-type {\n",
              "        vertical-align: middle;\n",
              "    }\n",
              "\n",
              "    .dataframe tbody tr th {\n",
              "        vertical-align: top;\n",
              "    }\n",
              "\n",
              "    .dataframe thead th {\n",
              "        text-align: right;\n",
              "    }\n",
              "</style>\n",
              "<table border=\"1\" class=\"dataframe\">\n",
              "  <thead>\n",
              "    <tr style=\"text-align: right;\">\n",
              "      <th></th>\n",
              "      <th>label</th>\n",
              "      <th>text</th>\n",
              "    </tr>\n",
              "  </thead>\n",
              "  <tbody>\n",
              "    <tr>\n",
              "      <th>0</th>\n",
              "      <td>0</td>\n",
              "      <td>the fulton county grand jury said friday an in...</td>\n",
              "    </tr>\n",
              "    <tr>\n",
              "      <th>1</th>\n",
              "      <td>0</td>\n",
              "      <td>the jury further said in termend presentments ...</td>\n",
              "    </tr>\n",
              "    <tr>\n",
              "      <th>2</th>\n",
              "      <td>0</td>\n",
              "      <td>the septemberoctober term jury had been charge...</td>\n",
              "    </tr>\n",
              "    <tr>\n",
              "      <th>3</th>\n",
              "      <td>0</td>\n",
              "      <td>only a relative handful of such reports was re...</td>\n",
              "    </tr>\n",
              "    <tr>\n",
              "      <th>4</th>\n",
              "      <td>0</td>\n",
              "      <td>the jury said it did find that many of georgia...</td>\n",
              "    </tr>\n",
              "    <tr>\n",
              "      <th>...</th>\n",
              "      <td>...</td>\n",
              "      <td>...</td>\n",
              "    </tr>\n",
              "    <tr>\n",
              "      <th>179</th>\n",
              "      <td>1</td>\n",
              "      <td>Many local citizens feared that there would be...</td>\n",
              "    </tr>\n",
              "    <tr>\n",
              "      <th>180</th>\n",
              "      <td>1</td>\n",
              "      <td>Sheriff Felix Tabb said the ordinary apparentl...</td>\n",
              "    </tr>\n",
              "    <tr>\n",
              "      <th>181</th>\n",
              "      <td>1</td>\n",
              "      <td>Everything went real smooth Security banner li...</td>\n",
              "    </tr>\n",
              "    <tr>\n",
              "      <th>182</th>\n",
              "      <td>1</td>\n",
              "      <td>There wasnt a signing bustling bast winterPatrick</td>\n",
              "    </tr>\n",
              "    <tr>\n",
              "      <th>183</th>\n",
              "      <td>1</td>\n",
              "      <td>Committee approval of Gov Price Daniels  aband...</td>\n",
              "    </tr>\n",
              "  </tbody>\n",
              "</table>\n",
              "<p>184 rows × 2 columns</p>\n",
              "</div>"
            ],
            "text/plain": [
              "     label                                               text\n",
              "0        0  the fulton county grand jury said friday an in...\n",
              "1        0  the jury further said in termend presentments ...\n",
              "2        0  the septemberoctober term jury had been charge...\n",
              "3        0  only a relative handful of such reports was re...\n",
              "4        0  the jury said it did find that many of georgia...\n",
              "..     ...                                                ...\n",
              "179      1  Many local citizens feared that there would be...\n",
              "180      1  Sheriff Felix Tabb said the ordinary apparentl...\n",
              "181      1  Everything went real smooth Security banner li...\n",
              "182      1  There wasnt a signing bustling bast winterPatrick\n",
              "183      1  Committee approval of Gov Price Daniels  aband...\n",
              "\n",
              "[184 rows x 2 columns]"
            ]
          },
          "metadata": {
            "tags": []
          },
          "execution_count": 36
        }
      ]
    },
    {
      "cell_type": "code",
      "metadata": {
        "id": "EtnuWb3IWa9E"
      },
      "source": [
        "\n",
        "df['label'] = df['label'].astype('str')\n",
        "df['label'] = '__label__' + df['label']"
      ],
      "execution_count": 37,
      "outputs": []
    },
    {
      "cell_type": "code",
      "metadata": {
        "id": "IK-gE4rVWeUT"
      },
      "source": [
        "\n",
        "df_fasttext_train, df_fasttext_test = train_test_split(df, train_size = train_test_ratio, random_state = 1)"
      ],
      "execution_count": 38,
      "outputs": []
    },
    {
      "cell_type": "code",
      "metadata": {
        "id": "Reen3HiFWe64"
      },
      "source": [
        "df_fasttext_train.to_csv('train.txt', \n",
        "          index = False, \n",
        "          sep = ' ',\n",
        "          header = None, \n",
        "          quoting = csv.QUOTE_NONE, \n",
        "          quotechar = \"\", \n",
        "escapechar = \" \")\n",
        "\n",
        "df_fasttext_test.to_csv('test.txt', \n",
        "          index = False, \n",
        "          sep = ' ',\n",
        "          header = None, \n",
        "          quoting = csv.QUOTE_NONE, \n",
        "          quotechar = \"\", \n",
        "escapechar = \" \")\n"
      ],
      "execution_count": 39,
      "outputs": []
    },
    {
      "cell_type": "code",
      "metadata": {
        "id": "NczTKoxQWmO6"
      },
      "source": [
        "model = fasttext.train_supervised('train.txt', wordNgrams = 10)"
      ],
      "execution_count": 40,
      "outputs": []
    },
    {
      "cell_type": "code",
      "metadata": {
        "colab": {
          "base_uri": "https://localhost:8080/"
        },
        "id": "Up5W1KwwWoPt",
        "outputId": "55680649-ad3b-460a-b3e2-85c982904d83"
      },
      "source": [
        "model.test('test.txt')"
      ],
      "execution_count": 41,
      "outputs": [
        {
          "output_type": "execute_result",
          "data": {
            "text/plain": [
              "(19, 0.5263157894736842, 0.5263157894736842)"
            ]
          },
          "metadata": {
            "tags": []
          },
          "execution_count": 41
        }
      ]
    }
  ]
}