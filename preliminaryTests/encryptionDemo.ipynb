{
  "nbformat": 4,
  "nbformat_minor": 0,
  "metadata": {
    "language_info": {
      "codemirror_mode": {
        "name": "ipython",
        "version": 3
      },
      "file_extension": ".py",
      "mimetype": "text/x-python",
      "name": "python",
      "nbconvert_exporter": "python",
      "pygments_lexer": "ipython3",
      "version": "3.8.5-final"
    },
    "orig_nbformat": 2,
    "kernelspec": {
      "name": "python38264bite834c2c011334a2da8e9f5a4e0ee3928",
      "display_name": "Python 3.8.2 64-bit"
    },
    "colab": {
      "name": "encryptionDemo.ipynb",
      "provenance": []
    },
    "accelerator": "GPU"
  },
  "cells": [
    {
      "cell_type": "markdown",
      "metadata": {
        "id": "6fYG94jMqxsU"
      },
      "source": [
        "# Here is our Notebook showing how to use the Encryption"
      ]
    },
    {
      "cell_type": "markdown",
      "metadata": {
        "id": "K32_GVfCqxsV"
      },
      "source": [
        "## Conduct Imports:"
      ]
    },
    {
      "cell_type": "code",
      "metadata": {
        "id": "4ytipLIpqxsV"
      },
      "source": [
        "!pip install -q git+https://github.com/huggingface/transformers.git\n",
        "from encryptSecret import *\n",
        "from decryptSecret import *"
      ],
      "execution_count": null,
      "outputs": []
    },
    {
      "cell_type": "markdown",
      "metadata": {
        "id": "IcOy0vL1qxsX"
      },
      "source": [
        "## Define Secret and Preconditioning of Text"
      ]
    },
    {
      "cell_type": "code",
      "metadata": {
        "id": "5vLraGHwqxsX"
      },
      "source": [
        "startOfText=\"This year's Shakespeare Festival\"\n",
        "precondSec=\"Secret: \"\n",
        "secret=\"This is highly secret!\""
      ],
      "execution_count": 3,
      "outputs": []
    },
    {
      "cell_type": "markdown",
      "metadata": {
        "id": "56udeXKZqxsX"
      },
      "source": [
        "## Encryption of the Text"
      ]
    },
    {
      "cell_type": "code",
      "metadata": {
        "colab": {
          "base_uri": "https://localhost:8080/"
        },
        "id": "0zEBJ-w2qxsX",
        "outputId": "332c1c91-ee1d-4c31-a771-4f95fb9db3ba"
      },
      "source": [
        "outText, outInd=encryptMessage(secret, precondSec, startOfText)\n",
        "print(outText)"
      ],
      "execution_count": 4,
      "outputs": [
        {
          "output_type": "stream",
          "text": [
            "This year's Shakespeare Festival Featured Film! Take advantage\n"
          ],
          "name": "stdout"
        }
      ]
    },
    {
      "cell_type": "markdown",
      "metadata": {
        "id": "vroMaoYWqxsX"
      },
      "source": [
        "## Decryption of the Text"
      ]
    },
    {
      "cell_type": "code",
      "metadata": {
        "colab": {
          "base_uri": "https://localhost:8080/"
        },
        "id": "xjIpftyGqxsX",
        "outputId": "49d2d94d-3315-4685-e077-de331b9a6da1"
      },
      "source": [
        "secretText=getTextFromText(outText, precondSec, startOfText)\n",
        "print(secretText)"
      ],
      "execution_count": 5,
      "outputs": [
        {
          "output_type": "stream",
          "text": [
            "Secret: This is highly secret!\n"
          ],
          "name": "stdout"
        }
      ]
    }
  ]
}
