{
 "cells": [
  {
   "cell_type": "code",
   "execution_count": 2,
   "metadata": {
    "colab": {
     "base_uri": "https://localhost:8080/"
    },
    "id": "1O9RRvdjzewj",
    "outputId": "66dca9b6-1423-406b-afd5-e48648e57700"
   },
   "outputs": [
    {
     "name": "stdout",
     "output_type": "stream",
     "text": [
      "Requirement already satisfied: transformers in /usr/local/lib/python3.6/dist-packages (3.5.1)\n",
      "Requirement already satisfied: sentencepiece==0.1.91 in /usr/local/lib/python3.6/dist-packages (from transformers) (0.1.91)\n",
      "Requirement already satisfied: regex!=2019.12.17 in /usr/local/lib/python3.6/dist-packages (from transformers) (2019.12.20)\n",
      "Requirement already satisfied: packaging in /usr/local/lib/python3.6/dist-packages (from transformers) (20.4)\n",
      "Requirement already satisfied: sacremoses in /usr/local/lib/python3.6/dist-packages (from transformers) (0.0.43)\n",
      "Requirement already satisfied: dataclasses; python_version < \"3.7\" in /usr/local/lib/python3.6/dist-packages (from transformers) (0.8)\n",
      "Requirement already satisfied: tqdm>=4.27 in /usr/local/lib/python3.6/dist-packages (from transformers) (4.41.1)\n",
      "Requirement already satisfied: tokenizers==0.9.3 in /usr/local/lib/python3.6/dist-packages (from transformers) (0.9.3)\n",
      "Requirement already satisfied: requests in /usr/local/lib/python3.6/dist-packages (from transformers) (2.23.0)\n",
      "Requirement already satisfied: numpy in /usr/local/lib/python3.6/dist-packages (from transformers) (1.18.5)\n",
      "Requirement already satisfied: protobuf in /usr/local/lib/python3.6/dist-packages (from transformers) (3.12.4)\n",
      "Requirement already satisfied: filelock in /usr/local/lib/python3.6/dist-packages (from transformers) (3.0.12)\n",
      "Requirement already satisfied: six in /usr/local/lib/python3.6/dist-packages (from packaging->transformers) (1.15.0)\n",
      "Requirement already satisfied: pyparsing>=2.0.2 in /usr/local/lib/python3.6/dist-packages (from packaging->transformers) (2.4.7)\n",
      "Requirement already satisfied: click in /usr/local/lib/python3.6/dist-packages (from sacremoses->transformers) (7.1.2)\n",
      "Requirement already satisfied: joblib in /usr/local/lib/python3.6/dist-packages (from sacremoses->transformers) (0.17.0)\n",
      "Requirement already satisfied: urllib3!=1.25.0,!=1.25.1,<1.26,>=1.21.1 in /usr/local/lib/python3.6/dist-packages (from requests->transformers) (1.24.3)\n",
      "Requirement already satisfied: certifi>=2017.4.17 in /usr/local/lib/python3.6/dist-packages (from requests->transformers) (2020.11.8)\n",
      "Requirement already satisfied: idna<3,>=2.5 in /usr/local/lib/python3.6/dist-packages (from requests->transformers) (2.10)\n",
      "Requirement already satisfied: chardet<4,>=3.0.2 in /usr/local/lib/python3.6/dist-packages (from requests->transformers) (3.0.4)\n",
      "Requirement already satisfied: setuptools in /usr/local/lib/python3.6/dist-packages (from protobuf->transformers) (50.3.2)\n"
     ]
    }
   ],
   "source": [
    "!pip install transformers"
   ]
  },
  {
   "cell_type": "code",
   "execution_count": 3,
   "metadata": {
    "id": "pUNyPOp2xbk7"
   },
   "outputs": [],
   "source": [
    "from createModel import *"
   ]
  },
  {
   "cell_type": "code",
   "execution_count": 4,
   "metadata": {
    "id": "he_WJhfiCLKt"
   },
   "outputs": [],
   "source": [
    "mod, tok = buildModelGPT()"
   ]
  },
  {
   "cell_type": "code",
   "execution_count": 7,
   "metadata": {
    "id": "kaCCG_uozKcH"
   },
   "outputs": [],
   "source": [
    "def gen_fake_text(start_text, start_secret, secret_text):\n",
    "  secret_text_encoded = tok.encode(secret_text)\n",
    "  all_encoded = tok.encode(start_secret)\n",
    "  all_encoded.extend(secret_text_encoded)\n",
    "\n",
    "  ranks = []\n",
    "\n",
    "  for i in range(len(tok.encode(start_secret)), len(all_encoded)):\n",
    "    ranks.append(getSecretTokens(mod, tok, all_encoded[:i], all_encoded[i]).item())\n",
    "\n",
    "  # print(ranks)\n",
    "  \n",
    "  output_text = start_text\n",
    "  output_index = tok.encode(start_text)\n",
    "\n",
    "  for i in range(len(ranks)):\n",
    "    output_index = evaluateWithInputId(mod, output_index, ranks[i])\n",
    "\n",
    "  output_text = tok.decode(output_index)\n",
    "  return output_text"
   ]
  },
  {
   "cell_type": "code",
   "execution_count": 5,
   "metadata": {
    "id": "rGysVT4Azd22"
   },
   "outputs": [],
   "source": [
    "start_text = \"\"\"\n",
    "Welcome to the Shakespeare festival in London, UK. Today\n",
    "\"\"\"\n",
    "\n",
    "start_secret = \"Secret\"\n",
    "secret_text = \"A secret message for Joe\""
   ]
  },
  {
   "cell_type": "code",
   "execution_count": 13,
   "metadata": {
    "id": "vWS7J1jAIJZh"
   },
   "outputs": [],
   "source": [
    "# Idea 1: use randomly generated ranks instead of calculated ones\n",
    "# Idea 2: give only steganographic part (without starting text) to classifier\n",
    "# Idea 3: fiddle around with (precision/recall trade-off)\n",
    "# Idea 4: Perplexity-based steganography\n",
    "# Idea 5: run GLTR on cluster"
   ]
  },
  {
   "cell_type": "code",
   "execution_count": 8,
   "metadata": {
    "colab": {
     "base_uri": "https://localhost:8080/"
    },
    "id": "VeIm9ExFHRT-",
    "outputId": "cd5f31fc-f8f2-4633-f584-614a8036cd71"
   },
   "outputs": [
    {
     "name": "stdout",
     "output_type": "stream",
     "text": [
      "\n",
      "Welcome to the Shakespeare festival in London, UK. Today\n",
      "Too black today and indeed\n"
     ]
    }
   ],
   "source": [
    "print(gen_fake_text(start_text, start_secret, secret_text))"
   ]
  },
  {
   "cell_type": "markdown",
   "metadata": {
    "id": "lxYburTTQhy4"
   },
   "source": [
    "# Convert to tensor\n"
   ]
  },
  {
   "cell_type": "code",
   "execution_count": 2,
   "metadata": {
    "id": "Pe4ky12kQlD9"
   },
   "outputs": [],
   "source": [
    "def convert_to_tensor(text, vocab, ngrams):\n",
    "    tokenizer = get_tokenizer(\"basic_english\")\n",
    "    with torch.no_grad():\n",
    "        text = torch.tensor([vocab[token]\n",
    "                            for token in ngrams_iterator(tokenizer(text), ngrams)])\n",
    "        return text"
   ]
  },
  {
   "cell_type": "code",
   "execution_count": 3,
   "metadata": {
    "colab": {
     "base_uri": "https://localhost:8080/"
    },
    "id": "TBhO7r_QQu5Q",
    "outputId": "71292f9b-4b01-4a76-cb8f-0e464eb39374"
   },
   "outputs": [
    {
     "ename": "NameError",
     "evalue": "name 'train_dataset' is not defined",
     "output_type": "error",
     "traceback": [
      "\u001b[0;31m---------------------------------------------------------------------------\u001b[0m",
      "\u001b[0;31mNameError\u001b[0m                                 Traceback (most recent call last)",
      "\u001b[0;32m<ipython-input-3-187f72f34861>\u001b[0m in \u001b[0;36m<module>\u001b[0;34m\u001b[0m\n\u001b[0;32m----> 1\u001b[0;31m \u001b[0mconvert_to_tensor\u001b[0m\u001b[0;34m(\u001b[0m\u001b[0;34m'hello my name is'\u001b[0m\u001b[0;34m,\u001b[0m \u001b[0mvocab\u001b[0m\u001b[0;34m=\u001b[0m\u001b[0mtrain_dataset\u001b[0m\u001b[0;34m.\u001b[0m\u001b[0mget_vocab\u001b[0m\u001b[0;34m(\u001b[0m\u001b[0;34m)\u001b[0m\u001b[0;34m,\u001b[0m \u001b[0mngrams\u001b[0m\u001b[0;34m=\u001b[0m\u001b[0mNGRAMS\u001b[0m\u001b[0;34m)\u001b[0m\u001b[0;34m\u001b[0m\u001b[0;34m\u001b[0m\u001b[0m\n\u001b[0m",
      "\u001b[0;31mNameError\u001b[0m: name 'train_dataset' is not defined"
     ]
    }
   ],
   "source": [
    "convert_to_tensor('hello my name is', vocab=train_dataset.get_vocab(), ngrams=NGRAMS)"
   ]
  },
  {
   "cell_type": "code",
   "execution_count": 1,
   "metadata": {
    "colab": {
     "base_uri": "https://localhost:8080/"
    },
    "id": "8cIn9QfjRF1w",
    "outputId": "c1bae5c9-603d-4d3f-9ff3-04096765fca3"
   },
   "outputs": [
    {
     "name": "stderr",
     "output_type": "stream",
     "text": [
      "[nltk_data] Downloading package brown to /home/mark/nltk_data...\n",
      "[nltk_data]   Package brown is already up-to-date!\n"
     ]
    }
   ],
   "source": [
    "from nltk.corpus import brown\n",
    "import nltk\n",
    "nltk.download('brown')\n",
    "\n",
    "news_text = brown.sents(categories=['news'])[:50]\n",
    "fake_news = []\n",
    "true_news = []\n",
    "\n",
    "secret_text_length = 5"
   ]
  },
  {
   "cell_type": "code",
   "execution_count": 101,
   "metadata": {
    "id": "MTmd3F8GTWLA"
   },
   "outputs": [],
   "source": [
    "for sentence in news_text:\n",
    "  if len(sentence) < secret_text_length:\n",
    "    continue\n",
    "\n",
    "  sentence_true = ' '.join(sentence)\n",
    "\n",
    "  true_news.append(sentence_true)\n",
    "\n",
    "  sentence_fake = ' '.join(sentence[:-secret_text_length])\n",
    "  sentence_fake = gen_fake_text(sentence_fake, start_secret, secret_text)\n",
    "\n",
    "  fake_news.append(sentence_fake)"
   ]
  },
  {
   "cell_type": "code",
   "execution_count": 100,
   "metadata": {
    "colab": {
     "base_uri": "https://localhost:8080/",
     "height": 35
    },
    "id": "evCr5SGhVgMX",
    "outputId": "2168c417-4944-4e45-91ea-91a92abf1ede"
   },
   "outputs": [
    {
     "data": {
      "application/vnd.google.colaboratory.intrinsic+json": {
       "type": "string"
      },
      "text/plain": [
       "\"The Fulton County Grand Jury said Friday an investigation of Atlanta's recent primary election produced `` no evidence '' that paint Randolph Park for Trayvon\""
      ]
     },
     "execution_count": 100,
     "metadata": {
      "tags": []
     },
     "output_type": "execute_result"
    }
   ],
   "source": []
  },
  {
   "cell_type": "markdown",
   "metadata": {
    "id": "HMViscvBZgQU"
   },
   "source": [
    "# Creating and training a model\n"
   ]
  },
  {
   "cell_type": "code",
   "execution_count": 4,
   "metadata": {
    "id": "cPuIL0T6ZfMr"
   },
   "outputs": [],
   "source": [
    "import pandas as pd\n",
    "from sklearn.model_selection import train_test_split\n",
    "\n",
    "destination_folder = './lstm/'\n",
    "\n",
    "train_test_ratio = 0.90\n",
    "train_valid_ratio = 0.80\n",
    "\n",
    "first_n_words = 200\n",
    "\n",
    "def trim_string(x):\n",
    "    x = x.split(maxsplit=first_n_words)\n",
    "    x = ' '.join(x[:first_n_words])\n",
    "    return x"
   ]
  },
  {
   "cell_type": "code",
   "execution_count": 5,
   "metadata": {
    "colab": {
     "base_uri": "https://localhost:8080/",
     "height": 419
    },
    "id": "yucFMEXwZ0k7",
    "outputId": "e78edbee-0bab-45c7-9ea3-cfc176ab93fb"
   },
   "outputs": [
    {
     "data": {
      "text/html": [
       "<div>\n",
       "<style scoped>\n",
       "    .dataframe tbody tr th:only-of-type {\n",
       "        vertical-align: middle;\n",
       "    }\n",
       "\n",
       "    .dataframe tbody tr th {\n",
       "        vertical-align: top;\n",
       "    }\n",
       "\n",
       "    .dataframe thead th {\n",
       "        text-align: right;\n",
       "    }\n",
       "</style>\n",
       "<table border=\"1\" class=\"dataframe\">\n",
       "  <thead>\n",
       "    <tr style=\"text-align: right;\">\n",
       "      <th></th>\n",
       "      <th>label</th>\n",
       "      <th>text</th>\n",
       "    </tr>\n",
       "  </thead>\n",
       "  <tbody>\n",
       "  </tbody>\n",
       "</table>\n",
       "</div>"
      ],
      "text/plain": [
       "Empty DataFrame\n",
       "Columns: [label, text]\n",
       "Index: []"
      ]
     },
     "execution_count": 5,
     "metadata": {},
     "output_type": "execute_result"
    }
   ],
   "source": [
    "#true_dict = dict({(i, 0) for i in true_news})\n",
    "#fake_dict = dict({(i, 1) for i in fake_news})\n",
    "#all_dict = {**true_dict, **fake_dict}\n",
    "#print(all_dict)\n",
    "\n",
    "#true_dict = {'text': true_news, 'label': 0}\n",
    "#fake_dict = {'text': fake_news, 'label': 1}\n",
    "#all_dict = {**true_dict, **fake_dict}\n",
    "\n",
    "all_dict = {'text': true_news + fake_news, 'label': [0]*len(true_news)+[1]*len(fake_news)}\n",
    "\n",
    "df = pd.DataFrame(data=all_dict, columns=['label', 'text'])\n",
    "df"
   ]
  },
  {
   "cell_type": "code",
   "execution_count": 185,
   "metadata": {
    "id": "alhxRXA0ZmP2"
   },
   "outputs": [],
   "source": [
    "# Read raw data\n",
    "df_raw = df\n",
    "\n",
    "# Drop rows with empty text\n",
    "df_raw.drop( df_raw[df_raw.text.str.len() < 5].index, inplace=True)\n",
    "\n",
    "# Trim text and titletext to first_n_words\n",
    "df_raw['text'] = df_raw['text'].apply(trim_string)\n",
    "\n",
    "# Split according to label\n",
    "df_real = df_raw[df_raw['label'] == 0]\n",
    "df_fake = df_raw[df_raw['label'] == 1]\n",
    "\n",
    "# Train-test split\n",
    "df_real_full_train, df_real_test = train_test_split(df_real, train_size = train_test_ratio, random_state = 1)\n",
    "df_fake_full_train, df_fake_test = train_test_split(df_fake, train_size = train_test_ratio, random_state = 1)\n",
    "\n",
    "# Train-valid split\n",
    "df_real_train, df_real_valid = train_test_split(df_real_full_train, train_size = train_valid_ratio, random_state = 1)\n",
    "df_fake_train, df_fake_valid = train_test_split(df_fake_full_train, train_size = train_valid_ratio, random_state = 1)\n",
    "\n",
    "# Concatenate splits of different labels\n",
    "df_train = pd.concat([df_real_train, df_fake_train], ignore_index=True, sort=False)\n",
    "df_valid = pd.concat([df_real_valid, df_fake_valid], ignore_index=True, sort=False)\n",
    "df_test = pd.concat([df_real_test, df_fake_test], ignore_index=True, sort=False)\n",
    "\n",
    "# Write preprocessed data\n",
    "df_train.to_csv(destination_folder + '/train.csv', index=False)\n",
    "df_valid.to_csv(destination_folder + '/valid.csv', index=False)\n",
    "df_test.to_csv(destination_folder + '/test.csv', index=False)"
   ]
  },
  {
   "cell_type": "code",
   "execution_count": 186,
   "metadata": {
    "id": "hwHw_HoedM5Z"
   },
   "outputs": [],
   "source": [
    "# Libraries\n",
    "\n",
    "import matplotlib.pyplot as plt\n",
    "import pandas as pd\n",
    "import torch\n",
    "\n",
    "# Preliminaries\n",
    "\n",
    "from torchtext.data import Field, TabularDataset, BucketIterator\n",
    "\n",
    "# Models\n",
    "\n",
    "import torch.nn as nn\n",
    "from torch.nn.utils.rnn import pack_padded_sequence, pad_packed_sequence\n",
    "\n",
    "# Training\n",
    "\n",
    "import torch.optim as optim\n",
    "\n",
    "# Evaluation\n",
    "\n",
    "from sklearn.metrics import accuracy_score, classification_report, confusion_matrix\n",
    "import seaborn as sns"
   ]
  },
  {
   "cell_type": "code",
   "execution_count": 200,
   "metadata": {
    "id": "1ceTTn8Xdof5"
   },
   "outputs": [],
   "source": [
    "# Fields\n",
    "\n",
    "label_field = Field(sequential=False, use_vocab=False, batch_first=True, dtype=torch.float)\n",
    "text_field = Field(tokenize='spacy', lower=True, include_lengths=True, batch_first=True)\n",
    "fields = [('label', label_field), ('text', text_field)]\n",
    "\n",
    "# TabularDataset\n",
    "\n",
    "train, valid, test = TabularDataset.splits(path=destination_folder, train='train.csv', validation='valid.csv', test='test.csv',\n",
    "                                           format='CSV', fields=fields, skip_header=True)\n",
    "\n",
    "# Iterators\n",
    "\n",
    "train_iter = BucketIterator(train, batch_size=32, sort_key=lambda x: len(x.text),\n",
    "                            device=device, sort=True, sort_within_batch=True)\n",
    "valid_iter = BucketIterator(valid, batch_size=3, sort_key=lambda x: len(x.text),\n",
    "                            device=device, sort=True, sort_within_batch=True)\n",
    "test_iter = BucketIterator(test, batch_size=32, sort_key=lambda x: len(x.text),\n",
    "                            device=device, sort=True, sort_within_batch=True)\n",
    "\n",
    "# Vocabulary\n",
    "\n",
    "text_field.build_vocab(train, min_freq=3)"
   ]
  },
  {
   "cell_type": "code",
   "execution_count": 202,
   "metadata": {
    "id": "NUSJdZZDd5X3"
   },
   "outputs": [],
   "source": [
    "\n",
    "class LSTM(nn.Module):\n",
    "\n",
    "    def __init__(self, dimension=128):\n",
    "        super(LSTM, self).__init__()\n",
    "\n",
    "        self.embedding = nn.Embedding(len(text_field.vocab), 300)\n",
    "        self.dimension = dimension\n",
    "        self.lstm = nn.LSTM(input_size=300,\n",
    "                            hidden_size=dimension,\n",
    "                            num_layers=1,\n",
    "                            batch_first=True,\n",
    "                            bidirectional=True)\n",
    "        self.drop = nn.Dropout(p=0.5)\n",
    "\n",
    "        self.fc = nn.Linear(2*dimension, 1)\n",
    "\n",
    "    def forward(self, text, text_len):\n",
    "\n",
    "        text_emb = self.embedding(text)\n",
    "\n",
    "        packed_input = pack_padded_sequence(text_emb, text_len, batch_first=True, enforce_sorted=False)\n",
    "        packed_output, _ = self.lstm(packed_input)\n",
    "        output, _ = pad_packed_sequence(packed_output, batch_first=True)\n",
    "\n",
    "        out_forward = output[range(len(output)), text_len - 1, :self.dimension]\n",
    "        out_reverse = output[:, 0, self.dimension:]\n",
    "        out_reduced = torch.cat((out_forward, out_reverse), 1)\n",
    "        text_fea = self.drop(out_reduced)\n",
    "\n",
    "        text_fea = self.fc(text_fea)\n",
    "        text_fea = torch.squeeze(text_fea, 1)\n",
    "        text_out = torch.sigmoid(text_fea)\n",
    "\n",
    "        return text_out"
   ]
  },
  {
   "cell_type": "code",
   "execution_count": 203,
   "metadata": {
    "id": "86oZNP9Md_R8"
   },
   "outputs": [],
   "source": [
    "\n",
    "# Save and Load Functions\n",
    "\n",
    "def save_checkpoint(save_path, model, optimizer, valid_loss):\n",
    "\n",
    "    if save_path == None:\n",
    "        return\n",
    "    \n",
    "    state_dict = {'model_state_dict': model.state_dict(),\n",
    "                  'optimizer_state_dict': optimizer.state_dict(),\n",
    "                  'valid_loss': valid_loss}\n",
    "    \n",
    "    torch.save(state_dict, save_path)\n",
    "    print(f'Model saved to ==> {save_path}')\n",
    "\n",
    "\n",
    "def load_checkpoint(load_path, model, optimizer):\n",
    "\n",
    "    if load_path==None:\n",
    "        return\n",
    "    \n",
    "    state_dict = torch.load(load_path, map_location=device)\n",
    "    print(f'Model loaded from <== {load_path}')\n",
    "    \n",
    "    model.load_state_dict(state_dict['model_state_dict'])\n",
    "    optimizer.load_state_dict(state_dict['optimizer_state_dict'])\n",
    "    \n",
    "    return state_dict['valid_loss']\n",
    "\n",
    "\n",
    "def save_metrics(save_path, train_loss_list, valid_loss_list, global_steps_list):\n",
    "\n",
    "    if save_path == None:\n",
    "        return\n",
    "    \n",
    "    state_dict = {'train_loss_list': train_loss_list,\n",
    "                  'valid_loss_list': valid_loss_list,\n",
    "                  'global_steps_list': global_steps_list}\n",
    "    \n",
    "    torch.save(state_dict, save_path)\n",
    "    print(f'Model saved to ==> {save_path}')\n",
    "\n",
    "\n",
    "def load_metrics(load_path):\n",
    "\n",
    "    if load_path==None:\n",
    "        return\n",
    "    \n",
    "    state_dict = torch.load(load_path, map_location=device)\n",
    "    print(f'Model loaded from <== {load_path}')\n",
    "    \n",
    "    return state_dict['train_loss_list'], state_dict['valid_loss_list'], state_dict['global_steps_list']\n"
   ]
  },
  {
   "cell_type": "code",
   "execution_count": 208,
   "metadata": {
    "colab": {
     "base_uri": "https://localhost:8080/"
    },
    "id": "qNgwTJTreCSf",
    "outputId": "b58f408f-758e-4e63-bc13-45247a04decf"
   },
   "outputs": [
    {
     "name": "stdout",
     "output_type": "stream",
     "text": [
      "Epoch [1/10], Step [2/50], Train Loss: 0.6540, Valid Loss: 0.5407\n",
      "Model saved to ==> ./lstm//model.pt\n",
      "Model saved to ==> ./lstm//metrics.pt\n",
      "Epoch [1/10], Step [4/50], Train Loss: 0.5048, Valid Loss: 0.4276\n",
      "Model saved to ==> ./lstm//model.pt\n",
      "Model saved to ==> ./lstm//metrics.pt\n",
      "Epoch [2/10], Step [6/50], Train Loss: 0.4800, Valid Loss: 0.3491\n",
      "Model saved to ==> ./lstm//model.pt\n",
      "Model saved to ==> ./lstm//metrics.pt\n",
      "Epoch [2/10], Step [8/50], Train Loss: 0.2927, Valid Loss: 0.2867\n",
      "Model saved to ==> ./lstm//model.pt\n",
      "Model saved to ==> ./lstm//metrics.pt\n",
      "Epoch [2/10], Step [10/50], Train Loss: 0.3191, Valid Loss: 0.2363\n",
      "Model saved to ==> ./lstm//model.pt\n",
      "Model saved to ==> ./lstm//metrics.pt\n",
      "Epoch [3/10], Step [12/50], Train Loss: 0.2451, Valid Loss: 0.1974\n",
      "Model saved to ==> ./lstm//model.pt\n",
      "Model saved to ==> ./lstm//metrics.pt\n",
      "Epoch [3/10], Step [14/50], Train Loss: 0.1590, Valid Loss: 0.1657\n",
      "Model saved to ==> ./lstm//model.pt\n",
      "Model saved to ==> ./lstm//metrics.pt\n",
      "Epoch [4/10], Step [16/50], Train Loss: 0.2260, Valid Loss: 0.1400\n",
      "Model saved to ==> ./lstm//model.pt\n",
      "Model saved to ==> ./lstm//metrics.pt\n",
      "Epoch [4/10], Step [18/50], Train Loss: 0.1021, Valid Loss: 0.1193\n",
      "Model saved to ==> ./lstm//model.pt\n",
      "Model saved to ==> ./lstm//metrics.pt\n",
      "Epoch [4/10], Step [20/50], Train Loss: 0.1284, Valid Loss: 0.1018\n",
      "Model saved to ==> ./lstm//model.pt\n",
      "Model saved to ==> ./lstm//metrics.pt\n",
      "Epoch [5/10], Step [22/50], Train Loss: 0.1233, Valid Loss: 0.0878\n",
      "Model saved to ==> ./lstm//model.pt\n",
      "Model saved to ==> ./lstm//metrics.pt\n",
      "Epoch [5/10], Step [24/50], Train Loss: 0.0631, Valid Loss: 0.0759\n",
      "Model saved to ==> ./lstm//model.pt\n",
      "Model saved to ==> ./lstm//metrics.pt\n",
      "Epoch [6/10], Step [26/50], Train Loss: 0.1427, Valid Loss: 0.0659\n",
      "Model saved to ==> ./lstm//model.pt\n",
      "Model saved to ==> ./lstm//metrics.pt\n",
      "Epoch [6/10], Step [28/50], Train Loss: 0.0411, Valid Loss: 0.0581\n",
      "Model saved to ==> ./lstm//model.pt\n",
      "Model saved to ==> ./lstm//metrics.pt\n",
      "Epoch [6/10], Step [30/50], Train Loss: 0.0672, Valid Loss: 0.0510\n",
      "Model saved to ==> ./lstm//model.pt\n",
      "Model saved to ==> ./lstm//metrics.pt\n",
      "Epoch [7/10], Step [32/50], Train Loss: 0.0782, Valid Loss: 0.0454\n",
      "Model saved to ==> ./lstm//model.pt\n",
      "Model saved to ==> ./lstm//metrics.pt\n",
      "Epoch [7/10], Step [34/50], Train Loss: 0.0338, Valid Loss: 0.0406\n",
      "Model saved to ==> ./lstm//model.pt\n",
      "Model saved to ==> ./lstm//metrics.pt\n",
      "Epoch [8/10], Step [36/50], Train Loss: 0.1068, Valid Loss: 0.0366\n",
      "Model saved to ==> ./lstm//model.pt\n",
      "Model saved to ==> ./lstm//metrics.pt\n",
      "Epoch [8/10], Step [38/50], Train Loss: 0.0240, Valid Loss: 0.0333\n",
      "Model saved to ==> ./lstm//model.pt\n",
      "Model saved to ==> ./lstm//metrics.pt\n",
      "Epoch [8/10], Step [40/50], Train Loss: 0.0339, Valid Loss: 0.0304\n",
      "Model saved to ==> ./lstm//model.pt\n",
      "Model saved to ==> ./lstm//metrics.pt\n",
      "Epoch [9/10], Step [42/50], Train Loss: 0.0579, Valid Loss: 0.0282\n",
      "Model saved to ==> ./lstm//model.pt\n",
      "Model saved to ==> ./lstm//metrics.pt\n",
      "Epoch [9/10], Step [44/50], Train Loss: 0.0190, Valid Loss: 0.0261\n",
      "Model saved to ==> ./lstm//model.pt\n",
      "Model saved to ==> ./lstm//metrics.pt\n",
      "Epoch [10/10], Step [46/50], Train Loss: 0.0580, Valid Loss: 0.0245\n",
      "Model saved to ==> ./lstm//model.pt\n",
      "Model saved to ==> ./lstm//metrics.pt\n",
      "Epoch [10/10], Step [48/50], Train Loss: 0.0144, Valid Loss: 0.0231\n",
      "Model saved to ==> ./lstm//model.pt\n",
      "Model saved to ==> ./lstm//metrics.pt\n",
      "Epoch [10/10], Step [50/50], Train Loss: 0.0188, Valid Loss: 0.0217\n",
      "Model saved to ==> ./lstm//model.pt\n",
      "Model saved to ==> ./lstm//metrics.pt\n",
      "Model saved to ==> ./lstm//metrics.pt\n",
      "Finished Training!\n"
     ]
    }
   ],
   "source": [
    "\n",
    "# Training Function\n",
    "\n",
    "def train(model,\n",
    "          optimizer,\n",
    "          criterion = nn.BCELoss(),\n",
    "          train_loader = train_iter,\n",
    "          valid_loader = valid_iter,\n",
    "          num_epochs = 5,\n",
    "          eval_every = len(train_iter) // 2,\n",
    "          file_path = destination_folder,\n",
    "          best_valid_loss = float(\"Inf\")):\n",
    "    \n",
    "    # initialize running values\n",
    "    running_loss = 0.0\n",
    "    valid_running_loss = 0.0\n",
    "    global_step = 0\n",
    "    train_loss_list = []\n",
    "    valid_loss_list = []\n",
    "    global_steps_list = []\n",
    "\n",
    "    # training loop\n",
    "    model.train()\n",
    "    for epoch in range(num_epochs):\n",
    "        for (labels, (text, text_len)), _ in train_loader:      \n",
    "            #print(labels)\n",
    "            #print(text)     \n",
    "            #labels = labels.to(device)\n",
    "            text = text.to(device)\n",
    "            text_len = text_len.to(device)\n",
    "            output = model(text, text_len.cpu())\n",
    "\n",
    "            loss = criterion(output, labels)\n",
    "            optimizer.zero_grad()\n",
    "            loss.backward()\n",
    "            optimizer.step()\n",
    "\n",
    "            # update running values\n",
    "            running_loss += loss.item()\n",
    "            global_step += 1\n",
    "\n",
    "            # evaluation step\n",
    "            if global_step % eval_every == 0:\n",
    "                model.eval()\n",
    "                with torch.no_grad():                    \n",
    "                  # validation loop\n",
    "                  for (labels, (text, text_len)), _ in valid_loader:\n",
    "                      labels = labels.to(device)\n",
    "                      text = text.to(device)\n",
    "                      text_len = text_len.to(device)\n",
    "                      output = model(text, text_len.cpu())\n",
    "\n",
    "                      loss = criterion(output, labels)\n",
    "                      valid_running_loss += loss.item()\n",
    "\n",
    "                # evaluation\n",
    "                average_train_loss = running_loss / eval_every\n",
    "                average_valid_loss = valid_running_loss / len(valid_loader)\n",
    "                train_loss_list.append(average_train_loss)\n",
    "                valid_loss_list.append(average_valid_loss)\n",
    "                global_steps_list.append(global_step)\n",
    "\n",
    "                # resetting running values\n",
    "                running_loss = 0.0                \n",
    "                valid_running_loss = 0.0\n",
    "                model.train()\n",
    "\n",
    "                # print progress\n",
    "                print('Epoch [{}/{}], Step [{}/{}], Train Loss: {:.4f}, Valid Loss: {:.4f}'\n",
    "                      .format(epoch+1, num_epochs, global_step, num_epochs*len(train_loader),\n",
    "                              average_train_loss, average_valid_loss))\n",
    "                \n",
    "                # checkpoint\n",
    "                if best_valid_loss > average_valid_loss:\n",
    "                    best_valid_loss = average_valid_loss\n",
    "                    save_checkpoint(file_path + '/model.pt', model, optimizer, best_valid_loss)\n",
    "                    save_metrics(file_path + '/metrics.pt', train_loss_list, valid_loss_list, global_steps_list)\n",
    "    \n",
    "    save_metrics(file_path + '/metrics.pt', train_loss_list, valid_loss_list, global_steps_list)\n",
    "    print('Finished Training!')\n",
    "\n",
    "\n",
    "model = LSTM().to(device)\n",
    "optimizer = optim.Adam(model.parameters(), lr=0.001)\n",
    "\n",
    "torch.device('cpu')\n",
    "train(model=model, optimizer=optimizer, num_epochs=10)"
   ]
  },
  {
   "cell_type": "code",
   "execution_count": 209,
   "metadata": {
    "colab": {
     "base_uri": "https://localhost:8080/",
     "height": 297
    },
    "id": "01pQfJ3seF46",
    "outputId": "a8449d42-88fa-4a4d-c6ef-e98711f348ac"
   },
   "outputs": [
    {
     "name": "stdout",
     "output_type": "stream",
     "text": [
      "Model loaded from <== ./lstm//metrics.pt\n"
     ]
    },
    {
     "data": {
      "image/png": "[encoded data removed]",
      "text/plain": [
       "<Figure size 432x288 with 1 Axes>"
      ]
     },
     "metadata": {
      "needs_background": "light",
      "tags": []
     },
     "output_type": "display_data"
    }
   ],
   "source": [
    "train_loss_list, valid_loss_list, global_steps_list = load_metrics(destination_folder + '/metrics.pt')\n",
    "plt.plot(global_steps_list, train_loss_list, label='Train')\n",
    "plt.plot(global_steps_list, valid_loss_list, label='Valid')\n",
    "plt.xlabel('Global Steps')\n",
    "plt.ylabel('Loss')\n",
    "plt.legend()\n",
    "plt.show() "
   ]
  },
  {
   "cell_type": "code",
   "execution_count": 212,
   "metadata": {
    "colab": {
     "base_uri": "https://localhost:8080/",
     "height": 493
    },
    "id": "Zf8yCIA8ilyl",
    "outputId": "25433256-0b74-487b-c80f-e259c4a05900"
   },
   "outputs": [
    {
     "name": "stdout",
     "output_type": "stream",
     "text": [
      "Model loaded from <== ./lstm//model.pt\n",
      "Classification Report:\n",
      "              precision    recall  f1-score   support\n",
      "\n",
      "           1     1.0000    1.0000    1.0000        10\n",
      "           0     1.0000    1.0000    1.0000        10\n",
      "\n",
      "    accuracy                         1.0000        20\n",
      "   macro avg     1.0000    1.0000    1.0000        20\n",
      "weighted avg     1.0000    1.0000    1.0000        20\n",
      "\n"
     ]
    },
    {
     "data": {
      "image/png": "[encoded data removed]",
      "text/plain": [
       "<Figure size 432x288 with 2 Axes>"
      ]
     },
     "metadata": {
      "needs_background": "light",
      "tags": []
     },
     "output_type": "display_data"
    }
   ],
   "source": [
    "# Evaluation Function\n",
    "\n",
    "def evaluate(model, test_loader, version='title', threshold=0.5):\n",
    "    y_pred = []\n",
    "    y_true = []\n",
    "\n",
    "    model.eval()\n",
    "    with torch.no_grad():\n",
    "        for (labels, (text, text_len)), _ in test_loader:           \n",
    "            labels = labels.to(device)\n",
    "            text = text.to(device)\n",
    "            text_len = text_len.to(device)\n",
    "            output = model(text, text_len.cpu())\n",
    "\n",
    "            output = (output > threshold).int()\n",
    "            y_pred.extend(output.tolist())\n",
    "            y_true.extend(labels.tolist())\n",
    "    \n",
    "    print('Classification Report:')\n",
    "    print(classification_report(y_true, y_pred, labels=[1,0], digits=4))\n",
    "    \n",
    "    cm = confusion_matrix(y_true, y_pred, labels=[1,0])\n",
    "    ax= plt.subplot()\n",
    "    sns.heatmap(cm, annot=True, ax = ax, cmap='Blues', fmt=\"d\")\n",
    "\n",
    "    ax.set_title('Confusion Matrix')\n",
    "\n",
    "    ax.set_xlabel('Predicted Labels')\n",
    "    ax.set_ylabel('True Labels')\n",
    "\n",
    "    ax.xaxis.set_ticklabels(['FAKE', 'REAL'])\n",
    "    ax.yaxis.set_ticklabels(['FAKE', 'REAL'])\n",
    "    \n",
    "    \n",
    "best_model = LSTM().to(device)\n",
    "optimizer = optim.Adam(best_model.parameters(), lr=0.001)\n",
    "\n",
    "load_checkpoint(destination_folder + '/model.pt', best_model, optimizer)\n",
    "evaluate(best_model, test_iter)"
   ]
  }
 ],
 "metadata": {
  "accelerator": "GPU",
  "colab": {
   "name": "Untitled1.ipynb",
   "provenance": []
  },
  "kernelspec": {
   "display_name": "Python 3",
   "language": "python",
   "name": "python3"
  },
  "language_info": {
   "codemirror_mode": {
    "name": "ipython",
    "version": 3
   },
   "file_extension": ".py",
   "mimetype": "text/x-python",
   "name": "python",
   "nbconvert_exporter": "python",
   "pygments_lexer": "ipython3",
   "version": "3.8.6"
  }
 },
 "nbformat": 4,
 "nbformat_minor": 1
}
