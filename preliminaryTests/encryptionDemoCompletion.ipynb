{
  "nbformat": 4,
  "nbformat_minor": 0,
  "metadata": {
    "language_info": {
      "codemirror_mode": {
        "name": "ipython",
        "version": 3
      },
      "file_extension": ".py",
      "mimetype": "text/x-python",
      "name": "python",
      "nbconvert_exporter": "python",
      "pygments_lexer": "ipython3",
      "version": "3.8.5-final"
    },
    "orig_nbformat": 2,
    "kernelspec": {
      "name": "python38264bite834c2c011334a2da8e9f5a4e0ee3928",
      "display_name": "Python 3.8.2 64-bit"
    },
    "colab": {
      "name": "encryptionDemoCompletion.ipynb",
      "provenance": [],
      "collapsed_sections": [],
      "machine_shape": "hm"
    },
    "accelerator": "GPU"
  },
  "cells": [
    {
      "cell_type": "markdown",
      "metadata": {
        "id": "6fYG94jMqxsU"
      },
      "source": [
        "# Here is our Notebook showing how to use the Encryption"
      ]
    },
    {
      "cell_type": "markdown",
      "metadata": {
        "id": "JFHYf1kTcky6"
      },
      "source": [
        "##Part for GPT"
      ]
    },
    {
      "cell_type": "markdown",
      "metadata": {
        "id": "K32_GVfCqxsV"
      },
      "source": [
        "## Conduct Imports:"
      ]
    },
    {
      "cell_type": "code",
      "metadata": {
        "id": "4ytipLIpqxsV",
        "colab": {
          "base_uri": "https://localhost:8080/"
        },
        "outputId": "defb918d-3bac-4753-b74c-4d1448aa2b2c"
      },
      "source": [
        "!pip install -q git+https://github.com/huggingface/transformers.git\n",
        "from encryptSecretWithOffset import *\n",
        "from decryptSecretWithOffset import *\n",
        "from createModel import buildModelGPT"
      ],
      "execution_count": 1,
      "outputs": [
        {
          "output_type": "stream",
          "text": [
            "  Installing build dependencies ... \u001b[?25l\u001b[?25hdone\n",
            "  Getting requirements to build wheel ... \u001b[?25l\u001b[?25hdone\n",
            "    Preparing wheel metadata ... \u001b[?25l\u001b[?25hdone\n",
            "  Building wheel for transformers (PEP 517) ... \u001b[?25l\u001b[?25hdone\n"
          ],
          "name": "stdout"
        }
      ]
    },
    {
      "cell_type": "markdown",
      "metadata": {
        "id": "IcOy0vL1qxsX"
      },
      "source": [
        "## Define Secret and Preconditioning of Text"
      ]
    },
    {
      "cell_type": "code",
      "metadata": {
        "id": "5vLraGHwqxsX"
      },
      "source": [
        "startOfText=\"This year's Shakespeare Festival\"\n",
        "precondSec=\"Secret: \"\n",
        "secret=\"This is highly secret and nobody must know. Really, I am not joking!\""
      ],
      "execution_count": 3,
      "outputs": []
    },
    {
      "cell_type": "markdown",
      "metadata": {
        "id": "56udeXKZqxsX"
      },
      "source": [
        "## Encryption of the Text"
      ]
    },
    {
      "cell_type": "code",
      "metadata": {
        "colab": {
          "base_uri": "https://localhost:8080/"
        },
        "id": "0zEBJ-w2qxsX",
        "outputId": "356a7c82-f850-475a-eb46-4a81e8337a35"
      },
      "source": [
        "mod, tok=buildModelGPT(modelType=\"gpt2\")\n",
        "outText, outInd=encryptMessage(mod, tok, secret, precondSec, startOfText)\n",
        "print(outText)"
      ],
      "execution_count": 3,
      "outputs": [
        {
          "output_type": "stream",
          "text": [
            "Setting `pad_token_id` to `eos_token_id`:50256 for open-end generation.\n"
          ],
          "name": "stderr"
        },
        {
          "output_type": "stream",
          "text": [
            "This year's Shakespeare Festival teamed up internally here with festival experts to bring 12,500 speakers to Hollywood and other major cities to hear the latest in Shakespeare's plays.\n"
          ],
          "name": "stdout"
        }
      ]
    },
    {
      "cell_type": "markdown",
      "metadata": {
        "id": "vroMaoYWqxsX"
      },
      "source": [
        "## Decryption of the Text"
      ]
    },
    {
      "cell_type": "code",
      "metadata": {
        "colab": {
          "base_uri": "https://localhost:8080/"
        },
        "id": "xjIpftyGqxsX",
        "outputId": "bcb4a3e5-9ef4-4c7e-b4c8-df4d9c79d169"
      },
      "source": [
        "secretText=getTextFromText(mod, tok, outText, precondSec, startOfText)\n",
        "print(secretText)"
      ],
      "execution_count": 4,
      "outputs": [
        {
          "output_type": "stream",
          "text": [
            "Secret: This is highly secret and nobody must know. Really, I am not joking!\n"
          ],
          "name": "stdout"
        }
      ]
    },
    {
      "cell_type": "code",
      "metadata": {
        "colab": {
          "base_uri": "https://localhost:8080/"
        },
        "id": "xWnhti7HyNlr",
        "outputId": "943f306a-1680-4fd2-c816-8bc202a7e81f"
      },
      "source": [
        "secretText2=getTextFromInd(mod, tok, outInd, precondSec, startOfText)\n",
        "print(secretText2)"
      ],
      "execution_count": 5,
      "outputs": [
        {
          "output_type": "stream",
          "text": [
            "Secret: This is highly secret and nobody must know. Really, I am not joking!\n"
          ],
          "name": "stdout"
        }
      ]
    },
    {
      "cell_type": "markdown",
      "metadata": {
        "id": "f_sQCKuEc0YR"
      },
      "source": [
        "#Part for Roberta"
      ]
    },
    {
      "cell_type": "code",
      "metadata": {
        "id": "8m1DKdWhTB_M"
      },
      "source": [
        "from createModel import *\n",
        "from decryptionRoBERTa import decryptRoBERTa\n",
        "from encryptionRoBERTa import encryptMessageRoBERTa"
      ],
      "execution_count": 1,
      "outputs": []
    },
    {
      "cell_type": "code",
      "metadata": {
        "id": "XwE4R1QTc2hw",
        "outputId": "2d157a19-94e4-4dd1-ad16-7439bb98b465",
        "colab": {
          "base_uri": "https://localhost:8080/"
        }
      },
      "source": [
        "modRo, tokRo=buildModelRoBERTa()"
      ],
      "execution_count": 2,
      "outputs": [
        {
          "output_type": "stream",
          "text": [
            "Some weights of RobertaForCausalLM were not initialized from the model checkpoint at roberta-base and are newly initialized: ['lm_head.decoder.bias']\n",
            "You should probably TRAIN this model on a down-stream task to be able to use it for predictions and inference.\n"
          ],
          "name": "stderr"
        }
      ]
    },
    {
      "cell_type": "code",
      "metadata": {
        "id": "Bi7v8WB9dBiW",
        "outputId": "5250ee70-37fa-4437-f984-cd5b590caf74",
        "colab": {
          "base_uri": "https://localhost:8080/"
        }
      },
      "source": [
        "cover_text=encryptMessageRoBERTa(modRo, tokRo, secret, precondSec, startOfText)\n",
        "print(cover_text)"
      ],
      "execution_count": 4,
      "outputs": [
        {
          "output_type": "stream",
          "text": [
            "This year's Shakespeare FestivalCheckPoor Rankings QuickClose manyard,...advertisement brainish Google repliesTwittercom2ing<s></s>.</s>\n"
          ],
          "name": "stdout"
        }
      ]
    },
    {
      "cell_type": "code",
      "metadata": {
        "id": "IKh8qApSURSW",
        "outputId": "d5754792-5e00-40ac-c728-7dcefd707809",
        "colab": {
          "base_uri": "https://localhost:8080/"
        }
      },
      "source": [
        "secretText=decryptRoBERTa(modRo, tokRo, cover_text, precondSec, startOfText)\n",
        "print(secretText)"
      ],
      "execution_count": 5,
      "outputs": [
        {
          "output_type": "stream",
          "text": [
            "Secret: This is highly secret and nobody must know. Really, I am not joking!\n"
          ],
          "name": "stdout"
        }
      ]
    },
    {
      "cell_type": "code",
      "metadata": {
        "id": "PHpOMnSNbg0W"
      },
      "source": [
        ""
      ],
      "execution_count": null,
      "outputs": []
    }
  ]
}
