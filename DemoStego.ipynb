{
 "cells": [
  {
   "cell_type": "code",
   "execution_count": 49,
   "metadata": {
    "id": "IIBQWSvYVmjP"
   },
   "outputs": [],
   "source": [
    "from wrappedCode.createModel import *\n",
    "from wrappedCode.encryptionWrapped import *\n",
    "from wrappedCode.decryptionWrapped import *\n",
    "import matplotlib.pyplot as plt\n",
    "import torch\n",
    "import torch.nn as nn"
   ]
  },
  {
   "cell_type": "markdown",
   "metadata": {
    "id": "L2abLsCiVtJc"
   },
   "source": [
    "## Model selection\n",
    "\n",
    "As different models were used for the example, these models need to be chosen as part of the model selection. For GPT2 models, it can be chosen between:\n",
    "\n",
    "\n",
    "*   \"gpt2-small\"\n",
    "*   \"gpt2-medium\"\n",
    "*   \"gpt2-large\"\n",
    "*   \"gpt2-xl\"\n",
    "\n",
    "Additionally, BERT and RoBERTa can also be selected.  \n",
    "\n",
    "\n"
   ]
  },
  {
   "cell_type": "code",
   "execution_count": 2,
   "metadata": {
    "id": "rr0hq4eqWGiG"
   },
   "outputs": [],
   "source": [
    "mod, tok= buildModel(\"gpt2\") # make nice wrapper for this!"
   ]
  },
  {
   "cell_type": "markdown",
   "metadata": {
    "id": "1Kz3jSLDVwh_"
   },
   "source": [
    "## Encryption of the secret text\n",
    "\n",
    "Depending on the choice, the encryption can be conducted with complete sentences or incomplete sentences. For this example, the start of Adele's \"Hello\" is encrypted. \n",
    "As part of the encryption it can be decided, whether the last sentence should be completed. \n",
    "\n"
   ]
  },
  {
   "cell_type": "code",
   "execution_count": 40,
   "metadata": {
    "id": "ZaIYolE7dCI0"
   },
   "outputs": [],
   "source": [
    "startOfText=\"This year's Shakespeare Festival\"\n",
    "precondSec=\". \"\n",
    "secret = \"EPFL is Europe’s most cosmopolitan technical university. It welcomes students, professors and collaborators of more than 120 nationalities.\"\n",
    "\n",
    "secret = \"EPFL is Europe’s most cosmopolitan technical university. It welcomes students, professors and collaborators of more than 120 nationalities. EPFL has both a Swiss and international vocation and focuses on three missions: teaching, research and innovation. EPFL collaborates with an important network of partners, including other universities and colleges, secondary schools and gymnasiums, industry and the economy, political circles and the general public, with the aim of having a real impact on society.\"\n",
    "\n",
    "sentenceComplete=True"
   ]
  },
  {
   "cell_type": "code",
   "execution_count": 41,
   "metadata": {
    "id": "0USeAmZWWGMR"
   },
   "outputs": [],
   "source": [
    "outText, outInd=encryptMessage(mod, tok, secret, precondSec, startOfText, False)"
   ]
  },
  {
   "cell_type": "code",
   "execution_count": 42,
   "metadata": {},
   "outputs": [
    {
     "name": "stdout",
     "output_type": "stream",
     "text": [
      "Cover text : This year's Shakespeare Festival Melt Off will champion t. The first contest will car-free, to celebrate \"Sesame Family Tunes,\" from March 11-May 1, 2005. Melt Off has results from over a dozen festival prizes, so check out the contest page at the NOLA Center Facebook wall. Tickets are $27.\n",
      "—\n",
      "End of the exhibit\n",
      "—\n",
      "This Friday, December May 4 8A: The National Shakespeare Company is pleased to announce M. LaBrie, the\n"
     ]
    }
   ],
   "source": [
    "print(\"Cover text : {}\".format(outText))"
   ]
  },
  {
   "cell_type": "markdown",
   "metadata": {
    "id": "Ee4PUaNrV4A6"
   },
   "source": [
    "## Decryption of the cover text\n",
    "\n",
    "For the decryption, the receiver needs to know the preconditioning of the secret and the start of the text. Given this and knowing, whether sentence completion was activated, the text can be recovered correctly. \n",
    "\n"
   ]
  },
  {
   "cell_type": "code",
   "execution_count": 43,
   "metadata": {},
   "outputs": [],
   "source": [
    "text = decryptMessage(mod, tok, outText, precondSec, startOfText, False)"
   ]
  },
  {
   "cell_type": "code",
   "execution_count": 44,
   "metadata": {},
   "outputs": [
    {
     "name": "stdout",
     "output_type": "stream",
     "text": [
      "Decrypted text : . EPFL is Europe’s most cosmopolitan technical university. It welcomes students, professors and collaborators of more than 120 nationalities. EPFL has both a Swiss and international vocation and focuses on three missions: teaching, research and innovation. EPFL collaborates with an important network of partners, including other universities and colleges, secondary schools and gymnasiums, industry and the economy, political circles and the general public, with the aim of having a real impact on society.\n"
     ]
    }
   ],
   "source": [
    "print(\"Decrypted text : {}\".format(text))"
   ]
  },
  {
   "cell_type": "markdown",
   "metadata": {
    "id": "AJSo8NynWHub"
   },
   "source": [
    "## Evaluation "
   ]
  },
  {
   "cell_type": "markdown",
   "metadata": {
    "id": "HijsrydLWwfC"
   },
   "source": [
    "### Smoothness of the generated text"
   ]
  },
  {
   "cell_type": "code",
   "execution_count": 8,
   "metadata": {
    "id": "GkraBA3gXYIt"
   },
   "outputs": [],
   "source": [
    "GPT2_ = True\n",
    "BERT_ = False"
   ]
  },
  {
   "cell_type": "code",
   "execution_count": 45,
   "metadata": {
    "id": "P0yE4IOuWyo1"
   },
   "outputs": [
    {
     "data": {
      "image/png": "[encoded data removed]",
      "text/plain": [
       "<Figure size 432x288 with 1 Axes>"
      ]
     },
     "metadata": {
      "needs_background": "light"
     },
     "output_type": "display_data"
    }
   ],
   "source": [
    "def plot_ranks_bert(mod, tok, precondSec, secret):\n",
    "  ranks = []\n",
    "  x = range(len(tok.encode(secret, add_special_tokens=False)))\n",
    "  ranks = getRanks_BERT(mod, tok, precondSec, secret)\n",
    "  plt.plot(x, ranks, color='orange')\n",
    "  plt.ylim(-1000, 50000)\n",
    "  plt.show()\n",
    "\n",
    "\n",
    "def plot_ranks_gpt2(model_gpt, tok_gpt, precondSec, secret):\n",
    "  x = range(len(tok_gpt.encode(secret)))\n",
    "  ranks=getRanks_GPT(model_gpt, tok_gpt, secret, precondSec, False)\n",
    "  plt.plot(x, ranks, color='orange')\n",
    "  plt.ylim(-1000, 50000)\n",
    "  plt.show()\n",
    "\n",
    "if GPT2_:\n",
    "  plot_ranks_gpt2(mod, tok, precondSec, secret)\n",
    "elif BERT_:  \n",
    "  plot_ranks_bert(mod, tok, precondSec, secret)"
   ]
  },
  {
   "cell_type": "markdown",
   "metadata": {
    "id": "lKzfsIrpWJ90"
   },
   "source": [
    "### Perplexity score"
   ]
  },
  {
   "cell_type": "code",
   "execution_count": 51,
   "metadata": {
    "id": "0A2NYNosWOyL"
   },
   "outputs": [
    {
     "name": "stdout",
     "output_type": "stream",
     "text": [
      "Perplexity score :12521.961920388352\n"
     ]
    }
   ],
   "source": [
    "def get_perplex_score(cover_text, model, tokenizer, startingSecret=\". \"):\n",
    "    probas = []\n",
    "    token_secret = tokenizer.encode(cover_text)\n",
    "    token_start = tokenizer.encode(startingSecret)\n",
    "    # Convert indexed tokens in a PyTorch tensor\n",
    "    tokens_tensor = torch.tensor([token_start])\n",
    "    m = nn.Softmax(dim=0)\n",
    "  # If you have a GPU, put everything on cuda\n",
    "    tokens_tensor = tokens_tensor.to('cuda')\n",
    "    model.to('cuda')\n",
    "    pred = []\n",
    "    with torch.no_grad():\n",
    "        outputs = model(tokens_tensor)\n",
    "        predictions = outputs[0]\n",
    "        tab = m(predictions[:, -1, :][0])\n",
    "        pred.append(tab[token_secret[0]].item())\n",
    "        for i in range(1, len(token_secret)):\n",
    "            tokens_tensor = torch.cat((tokens_tensor.to('cpu').view(-1), torch.Tensor([token_secret[i]])), dim=-1).view(1, -1)\n",
    "            outputs = model(tokens_tensor.type(torch.long).to(\"cuda\"))\n",
    "            predictions = outputs[0]\n",
    "            tab = m(predictions[:, -1, :][0])\n",
    "            pred.append(tab[token_secret[i]].item())\n",
    "            \n",
    "    s = 0\n",
    "    for p in pred:\n",
    "        s += np.log2(p)\n",
    "    score = 2**((-1/len(pred))*s)\n",
    "    return score\n",
    "\n",
    "score = get_perplex_score(outText, mod, tok, \". \")\n",
    "print(\"Perplexity score :{}\".format(score))"
   ]
  },
  {
   "cell_type": "code",
   "execution_count": null,
   "metadata": {},
   "outputs": [],
   "source": []
  }
 ],
 "metadata": {
  "colab": {
   "collapsed_sections": [],
   "name": "DemoStego.ipynb",
   "provenance": []
  },
  "kernelspec": {
   "display_name": "stego",
   "language": "python",
   "name": "stego"
  },
  "language_info": {
   "codemirror_mode": {
    "name": "ipython",
    "version": 3
   },
   "file_extension": ".py",
   "mimetype": "text/x-python",
   "name": "python",
   "nbconvert_exporter": "python",
   "pygments_lexer": "ipython3",
   "version": "3.8.5"
  }
 },
 "nbformat": 4,
 "nbformat_minor": 1
}
