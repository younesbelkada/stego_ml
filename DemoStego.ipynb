{
 "cells": [
  {
   "cell_type": "code",
   "execution_count": 1,
   "metadata": {
    "id": "IIBQWSvYVmjP"
   },
   "outputs": [],
   "source": [
    "from wrappedCode.createModel import *\n",
    "from wrappedCode.encryptionWrapped import *\n",
    "from wrappedCode.decryptionWrapped import *\n",
    "from wrappedCode.utils_stego import *\n",
    "import matplotlib.pyplot as plt\n",
    "import torch\n",
    "import ipywidgets as widgets\n",
    "from IPython.display import display\n",
    "import torch.nn as nn"
   ]
  },
  {
   "cell_type": "markdown",
   "metadata": {
    "id": "L2abLsCiVtJc"
   },
   "source": [
    "## Model selection\n",
    "\n",
    "As different models were used for the example, these models need to be chosen as part of the model selection. For GPT2 models, it can be chosen between:\n",
    "\n",
    "\n",
    "*   \"gpt2\"\n",
    "*   \"gpt2-medium\"\n",
    "*   \"gpt2-large\"\n",
    "*   \"gpt2-xl\"\n",
    "\n",
    "Additionally, BERT and RoBERTa can also be selected replacing the string by;\n",
    "* \"bert\"\n",
    "* \"roberta\"\n",
    "\n",
    "\n"
   ]
  },
  {
   "cell_type": "code",
   "execution_count": 2,
   "metadata": {},
   "outputs": [
    {
     "data": {
      "application/vnd.jupyter.widget-view+json": {
       "model_id": "9de8a00297b246daa6009d8f941223a0",
       "version_major": 2,
       "version_minor": 0
      },
      "text/plain": [
       "Dropdown(description='Model Type:', options=('gpt2', 'gpt2-medium', 'gpt2-large', 'gpt2-xl', 'bert-base-uncase…"
      ]
     },
     "metadata": {},
     "output_type": "display_data"
    },
    {
     "data": {
      "application/vnd.jupyter.widget-view+json": {
       "model_id": "dbeeb4b949164d39a4c017b1570c2a1d",
       "version_major": 2,
       "version_minor": 0
      },
      "text/plain": [
       "Select(description='Option:', options=('CompleteSentence', 'NoCompleteSentence'), value='CompleteSentence')"
      ]
     },
     "metadata": {},
     "output_type": "display_data"
    },
    {
     "data": {
      "application/vnd.jupyter.widget-view+json": {
       "model_id": "d4d4582fe0ad4efda89fb340a66e6aa7",
       "version_major": 2,
       "version_minor": 0
      },
      "text/plain": [
       "Text(value=\"I can't image how much I had fun to program this notebook at 03:00 AM\", description='Secret :', pl…"
      ]
     },
     "metadata": {},
     "output_type": "display_data"
    },
    {
     "data": {
      "application/vnd.jupyter.widget-view+json": {
       "model_id": "308c8c94cffd41e7938992681aff4a20",
       "version_major": 2,
       "version_minor": 0
      },
      "text/plain": [
       "Text(value='This message is super secret ! ', description='Cover text start :', placeholder='Type the starting…"
      ]
     },
     "metadata": {},
     "output_type": "display_data"
    }
   ],
   "source": [
    "display(w)\n",
    "display(w3)\n",
    "display(w4)\n",
    "display(w5)"
   ]
  },
  {
   "cell_type": "code",
   "execution_count": 3,
   "metadata": {},
   "outputs": [],
   "source": [
    "mod, tok = buildModel(w.value)"
   ]
  },
  {
   "cell_type": "markdown",
   "metadata": {
    "id": "1Kz3jSLDVwh_"
   },
   "source": [
    "## Encryption of the secret text\n",
    "\n",
    "Depending on the choice, the encryption can be conducted with complete sentences or incomplete sentences. For this example, the start of Adele's \"Hello\" is encrypted. \n",
    "As part of the encryption it can be decided, whether the last sentence should be completed. \n",
    "\n"
   ]
  },
  {
   "cell_type": "code",
   "execution_count": 13,
   "metadata": {
    "id": "ZaIYolE7dCI0"
   },
   "outputs": [],
   "source": [
    "startOfText=w5.value\n",
    "precondSec=\". \"\n",
    "secret = w4.value\n",
    "sentenceComplete= (w3.value == \"CompleteSentence\")"
   ]
  },
  {
   "cell_type": "markdown",
   "metadata": {},
   "source": [
    "We encrypt the secret text bu running the cell below :"
   ]
  },
  {
   "cell_type": "code",
   "execution_count": 14,
   "metadata": {
    "id": "0USeAmZWWGMR"
   },
   "outputs": [
    {
     "name": "stderr",
     "output_type": "stream",
     "text": [
      "Setting `pad_token_id` to `eos_token_id`:50256 for open-end generation.\n"
     ]
    }
   ],
   "source": [
    "outText, outInd=encryptMessage(mod, tok, secret, precondSec, startOfText, sentenceComplete)"
   ]
  },
  {
   "cell_type": "markdown",
   "metadata": {},
   "source": [
    "Let's discover our cover text ! Please run the cell below"
   ]
  },
  {
   "cell_type": "code",
   "execution_count": 15,
   "metadata": {},
   "outputs": [
    {
     "name": "stdout",
     "output_type": "stream",
     "text": [
      "Cover text : April is the cruellest month, breeding Lilacs out of the dead land, mixing Memory and desire, stirring Dull roots with spring rain. Winter kept us warm, covering Earth in forgetful snow, feeding A little life with dried tubers. Boiled eggs escaped, but they, alas there dusted anything on fate.\n",
      "A new.\n"
     ]
    }
   ],
   "source": [
    "print(\"Cover text : {}\".format(outText))"
   ]
  },
  {
   "cell_type": "markdown",
   "metadata": {
    "id": "Ee4PUaNrV4A6"
   },
   "source": [
    "## Decryption of the cover text\n",
    "\n",
    "For the decryption, the receiver needs to know the preconditioning of the secret and the start of the text. Given this and knowing, whether sentence completion was activated, the text can be recovered correctly. \n",
    "\n"
   ]
  },
  {
   "cell_type": "code",
   "execution_count": 16,
   "metadata": {},
   "outputs": [],
   "source": [
    "text = decryptMessage(mod, tok, outText, precondSec, startOfText, sentenceComplete)"
   ]
  },
  {
   "cell_type": "code",
   "execution_count": 17,
   "metadata": {},
   "outputs": [
    {
     "name": "stdout",
     "output_type": "stream",
     "text": [
      "Decrypted text : I can't image how much I had fun to program this notebook at 03:00 AM\n"
     ]
    }
   ],
   "source": [
    "print(\"Decrypted text : {}\".format(text))"
   ]
  },
  {
   "cell_type": "markdown",
   "metadata": {
    "id": "AJSo8NynWHub"
   },
   "source": [
    "## Evaluation "
   ]
  },
  {
   "cell_type": "markdown",
   "metadata": {
    "id": "HijsrydLWwfC"
   },
   "source": [
    "### Smoothness of the generated ranks\n",
    "\n",
    "Check the smoothness of the generated ranks using different models (use Ctrl to select multiple models). Gpt2 is alwayas there by default"
   ]
  },
  {
   "cell_type": "code",
   "execution_count": null,
   "metadata": {},
   "outputs": [],
   "source": [
    "display(w2)"
   ]
  },
  {
   "cell_type": "code",
   "execution_count": null,
   "metadata": {},
   "outputs": [],
   "source": [
    "secret=\"\"\"\n",
    "Facebook declined to comment on the amount of money it is putting into the scheme, but some publishers are privately expecting to make millions of pounds a year from the multi-year deals they have signed with the social network. As a result, news industry sources estimated that the total annual bill for Facebook is likely to run into the tens of millions in the UK alone, making a difference to the finances of struggling news outlets.\n",
    "\"\"\""
   ]
  },
  {
   "cell_type": "code",
   "execution_count": null,
   "metadata": {
    "id": "P0yE4IOuWyo1"
   },
   "outputs": [],
   "source": [
    "plot_ranks(secret, \". \", w2.value)"
   ]
  },
  {
   "cell_type": "markdown",
   "metadata": {
    "id": "lKzfsIrpWJ90"
   },
   "source": [
    "### Perplexity score"
   ]
  },
  {
   "cell_type": "markdown",
   "metadata": {},
   "source": [
    "The perplexity score is defined with the following formula"
   ]
  },
  {
   "cell_type": "markdown",
   "metadata": {},
   "source": [
    "   $p = \\exp{\\frac{1}{N} \\sum_{i=0}^{N} p(w_{i}| w_{j<i})}$"
   ]
  },
  {
   "cell_type": "markdown",
   "metadata": {
    "id": "0A2NYNosWOyL"
   },
   "source": [
    "Perplexity score is an efficient way to evaluate our Language Model, we can compute it given a cover text by running the cell below (make sure that you've run the cells above before running the one below):"
   ]
  },
  {
   "cell_type": "code",
   "execution_count": null,
   "metadata": {},
   "outputs": [],
   "source": [
    "score = get_score(mod, tok, outText, w.value)"
   ]
  },
  {
   "cell_type": "code",
   "execution_count": null,
   "metadata": {},
   "outputs": [],
   "source": [
    "print('Perplexity score for model {} is  : {}'.format(w.value, score))"
   ]
  }
 ],
 "metadata": {
  "colab": {
   "collapsed_sections": [],
   "name": "DemoStego.ipynb",
   "provenance": []
  },
  "kernelspec": {
   "display_name": "stego",
   "language": "python",
   "name": "stego"
  },
  "language_info": {
   "codemirror_mode": {
    "name": "ipython",
    "version": 3
   },
   "file_extension": ".py",
   "mimetype": "text/x-python",
   "name": "python",
   "nbconvert_exporter": "python",
   "pygments_lexer": "ipython3",
   "version": "3.8.5"
  }
 },
 "nbformat": 4,
 "nbformat_minor": 1
}
